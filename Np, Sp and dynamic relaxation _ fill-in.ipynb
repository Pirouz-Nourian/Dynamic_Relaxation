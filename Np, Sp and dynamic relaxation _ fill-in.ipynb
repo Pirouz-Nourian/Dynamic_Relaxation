{
 "cells": [
  {
   "cell_type": "markdown",
   "metadata": {},
   "source": [
    "# NumPy, SciPy and dynamic relaxation\n",
    "## Introduction\n",
    "In today's session we will focus on more advanced uses of scientific and computing libraries in Python. The main exercise will allow you to deform a mesh into a relaxed position, given an inverted gravitational force. \n",
    "\n",
    "## Aknowledgements\n",
    "*Dynamic relaxation* exercise was originally written by Shervin Azadi and Pirouz Nourian, \n",
    "*NumPy/SciPy introduction* by Kotryna Valeckaite. Last edit on 09/2019\n",
    "\n",
    "Thanks to Ir. Dirk Rinze Visser for introducing the following reference:\n",
    "* Adriaenssens, S., P. Block, D. Veenendaal, and C. Williams (2014). Shell Structures for Architecture: Form Finding and Optimization. New York: Routledge. \n",
    "* Chapter 2: Review of Dynamic Relaxation with an extension to six degrees of freedom theory by Adriaenssens, S.\n",
    "\n",
    "------\n",
    "\n",
    "# NumPy\n",
    "[Numpy](https://numpy.org/doc/1.17/reference/index.html) ([the user guide](https://numpy.org/doc/1.17/user/index.html#user)) is the core library for scientific computing in Python. It provides a high-performance multi-dimensional array object (i.e. a matrix) and tools for working with these arrays. Namely, it has built-in methods for most of your linear algebra needs.\n",
    "\n",
    "\n",
    "A numpy array is a grid of values, **all of the same type**, and is indexed by a tuple of nonnegative integers. Let's start with learning how to construct and access them."
   ]
  },
  {
   "cell_type": "code",
   "execution_count": null,
   "metadata": {},
   "outputs": [],
   "source": [
    "import numpy as np\n",
    "\n",
    "# Create a rank 1 array (1D matrix)\n",
    "a = np.array([1, 2, 3])   \n",
    "\n",
    "print(a)        \n",
    "print(type(a))            \n",
    "print(a.shape)            \n",
    "print(a[0], a[1], a[2]) \n",
    "a[0] = 5\n",
    "print(a) "
   ]
  },
  {
   "cell_type": "markdown",
   "metadata": {},
   "source": [
    "### Exercise 1\n",
    "Perform the pseudocode instructions below"
   ]
  },
  {
   "cell_type": "code",
   "execution_count": null,
   "metadata": {},
   "outputs": [],
   "source": [
    "b = np.array([[1,2,3],[4,5,6]])    \n",
    "\n",
    "# print out the whole array as it is\n",
    "\n",
    "# print out the type\n",
    "\n",
    "# print out the shape of it\n",
    "\n",
    "# print out the value of 5 by accessing the array\n",
    "\n",
    "# change the value of the 3 to anything else\n",
    "\n",
    "# print out the result\n"
   ]
  },
  {
   "cell_type": "markdown",
   "metadata": {},
   "source": [
    "Arrays can be made in many other ways and remembering this functionality (or printing out a cheat sheet) will save you precious coding time. Also, you are **not** limited to 2 dimensions: all examples below can be extended by 1 dimension by adding an additional value after the comma."
   ]
  },
  {
   "cell_type": "code",
   "execution_count": null,
   "metadata": {},
   "outputs": [],
   "source": [
    "# Creates an array of all zeros\n",
    "a = np.zeros((2,2))  \n",
    "print(a)              \n",
    "                      \n",
    "# Creates an array of all ones\n",
    "b = np.ones((2,3))    \n",
    "print('\\n',b)              \n",
    "\n",
    "# Creates an array of all of a specific number (5 in this case)\n",
    "c = np.full((2,2), 5)  \n",
    "print('\\n',c)               \n",
    "                       \n",
    "# Creates an identity matrix of a specified size (3 in this case)\n",
    "d = np.eye(3)         \n",
    "print('\\n',d)              \n",
    "                      \n",
    "# Creates a 2x3 array filled with random values in [0,5)\n",
    "e = np.random.random((2,5))  \n",
    "print('\\n',e)    "
   ]
  },
  {
   "cell_type": "markdown",
   "metadata": {},
   "source": [
    "### Exercise 2\n",
    "Create an identity matrix of size 3, then change all the ones to a different value each."
   ]
  },
  {
   "cell_type": "code",
   "execution_count": null,
   "metadata": {},
   "outputs": [],
   "source": []
  },
  {
   "cell_type": "markdown",
   "metadata": {},
   "source": [
    "## Why use it?\n",
    "The reason for using it lies not only in the convenience of not having to write your own methods. Namely, the underlying code is based on FORTRAN 77 and C libraries. In human words, it is way faster than writing your own code.\n",
    "\n",
    "### Exercise 3\n",
    "To compare the performance of pure Python and Numpy, follow the pseudocode instructions in the next cells."
   ]
  },
  {
   "cell_type": "code",
   "execution_count": 187,
   "metadata": {},
   "outputs": [],
   "source": [
    "my_list = []\n",
    "# Populate my_list, such that it contains 10**6 lists of [2,2,2]\n",
    "???"
   ]
  },
  {
   "cell_type": "code",
   "execution_count": 188,
   "metadata": {},
   "outputs": [
    {
     "name": "stdout",
     "output_type": "stream",
     "text": [
      "Wall time: 1.49 s\n"
     ]
    }
   ],
   "source": [
    "def python_test(my_list):\n",
    "    # TODO: multiply each number in my_list by 3\n",
    "\n",
    "# this is called a magic command, check out: \n",
    "# https://ipython.readthedocs.io/en/stable/interactive/magics.html\n",
    "%time python_test(my_list)        "
   ]
  },
  {
   "cell_type": "code",
   "execution_count": 189,
   "metadata": {},
   "outputs": [],
   "source": [
    "# TODO: create an array of 3x10**6 containing only 2s\n",
    "array = ???"
   ]
  },
  {
   "cell_type": "code",
   "execution_count": 190,
   "metadata": {},
   "outputs": [
    {
     "name": "stdout",
     "output_type": "stream",
     "text": [
      "Wall time: 12 ms\n"
     ]
    }
   ],
   "source": [
    "def numpy_test(array):\n",
    "    # TODO: multiply each number in the array by 3\n",
    "   \n",
    "    \n",
    "%time numpy_test(array) "
   ]
  },
  {
   "cell_type": "markdown",
   "metadata": {},
   "source": [
    "\n",
    "# SciPy\n",
    "SciPy is an open-source Python library used for scientific and technical computing. It has several sub-packages, such as on covering constants, spatial algorithms (e.g. distance, nearest neighbor fuctions), linear algebra methods and many more. It is built on top of NumPy, making it not only a useful, but also a powerful tool. More about it [here](https://www.tutorialspoint.com/scipy/index.htm).\n",
    "\n",
    "This library will not be used in the following exercise, but it will prove very useful if you need to do more complex linear algebra routines, such as integration."
   ]
  },
  {
   "cell_type": "markdown",
   "metadata": {},
   "source": [
    "# Dynamic relaxation\n",
    "This exercise consists of 3 main steps:\n",
    "1. Reading in the data and defining the initial state of the mesh\n",
    "2. Relaxing the mesh\n",
    "3. Plotting the results\n"
   ]
  },
  {
   "cell_type": "code",
   "execution_count": 193,
   "metadata": {},
   "outputs": [],
   "source": [
    "# For step 1\n",
    "import copy\n",
    "\n",
    "# For step 2\n",
    "from numpy import array, zeros, float64, append, sqrt, sign\n",
    "\n",
    "# For step 3\n",
    "import matplotlib\n",
    "import matplotlib.pyplot as plt\n",
    "from mpl_toolkits.mplot3d import Axes3D\n",
    "\n",
    "# necessary only for the Jupyter notebook\n",
    "%matplotlib notebook "
   ]
  },
  {
   "cell_type": "markdown",
   "metadata": {},
   "source": [
    "## 1. Reading in the data and defining the initial state of the mesh\n",
    "During this step we need to read in the data, parse it to something we can manipulate, pre-process the geometeries and pass the results/ initial state of the mesh to the next process. The expected outputs of this step are:\n",
    "* points : List of points\n",
    "* edges : List of edges\n",
    "* vertices : List of vertices\n",
    "* xyzIS : Initial state of the system\n",
    "* bbmax, bbmin : Bounding box of the mesh\n",
    "\n",
    "-------\n",
    "\n",
    "Let's first declare some of these variables:"
   ]
  },
  {
   "cell_type": "code",
   "execution_count": 194,
   "metadata": {},
   "outputs": [],
   "source": [
    "# initiating the output\n",
    "xyz = []  # list of vertex xyz coordinates (it is a list of lists)\n",
    "vertices = []  # unique xyz coordinates\n",
    "points = []  # references to vertices\n",
    "lines = []  # pairs of references to vertices\n",
    "\n",
    "# initiating the bounding box max and min point\n",
    "bbmax = [0,0,0]\n",
    "bbmin = [0,0,0]"
   ]
  },
  {
   "cell_type": "markdown",
   "metadata": {},
   "source": [
    "The only **input** for the first step of the exercise in the location of the *mesh file (.obj)* you received together with this notebook.\n",
    "\n",
    "To begin with, let's locate the file and open it:"
   ]
  },
  {
   "cell_type": "code",
   "execution_count": 198,
   "metadata": {},
   "outputs": [],
   "source": [
    "filename = ??? # TODO: fill in the name of the file and potentially the location\n",
    "\n",
    "# opening the file\n",
    "with open(filename, 'r') as myfile:\n",
    "    data = myfile.read()\n",
    "    # TODO: split the data by lines\n",
    "    data = ???"
   ]
  },
  {
   "cell_type": "markdown",
   "metadata": {},
   "source": [
    "### What is inside of data? (for a more elaborate description of the format, check out this [link](http://paulbourke.net/dataformats/obj/))"
   ]
  },
  {
   "cell_type": "code",
   "execution_count": 200,
   "metadata": {
    "scrolled": true
   },
   "outputs": [
    {
     "data": {
      "text/plain": [
       "'# Rhino\\n\\nv 0 0 0\\nv 0 1 0\\nv 0 2 0\\nv 0 3 0\\nv 0 4 0\\nv 0 5 0\\nv 0 6 0\\nv 0 7 0\\nv 0 8 0\\nv 0 9 0\\nv 0 10 0\\nv 1 0 0\\nv 1 1 0\\nv 1 2 0\\nv 1 3 0\\nv 1 4 0\\nv 1 5 0\\nv 1 6 0\\nv 1 7 0\\nv 1 8 0\\nv 1 9 0\\nv 1 10 0\\nv 2 0 0\\nv 2 1 0\\nv 2 2 0\\nv 2 3 0\\nv 2 4 0\\nv 2 5 0\\nv 2 6 0\\nv 2 7 0\\nv 2 8 0\\nv 2 9 0\\nv 2 10 0\\nv 3 0 0\\nv 3 1 0\\nv 3 2 0\\nv 3 3 0\\nv 3 4 0\\nv 3 5 0\\nv 3 6 0\\nv 3 7 0\\nv 3 8 0\\nv 3 9 0\\nv 3 10 0\\nv 4 0 0\\nv 4 1 0\\nv 4 2 0\\nv 4 3 0\\nv 4 4 0\\nv 4 5 0\\nv 4 6 0\\nv 4 7 0\\nv 4 8 0\\nv 4 9 0\\nv 4 10 0\\nv 5 0 0\\nv 5 1 0\\nv 5 2 0\\nv 5 3 0\\nv 5 4 0\\nv 5 5 0\\nv 5 6 0\\nv 5 7 0\\nv 5 8 0\\nv 5 9 0\\nv 5 10 0\\nv 6 0 0\\nv 6 1 0\\nv 6 2 0\\nv 6 3 0\\nv 6 4 0\\nv 6 5 0\\nv 6 6 0\\nv 6 7 0\\nv 6 8 0\\nv 6 9 0\\nv 6 10 0\\nv 7 0 0\\nv 7 1 0\\nv 7 2 0\\nv 7 3 0\\nv 7 4 0\\nv 7 5 0\\nv 7 6 0\\nv 7 7 0\\nv 7 8 0\\nv 7 9 0\\nv 7 10 0\\nv 8 0 0\\nv 8 1 0\\nv 8 2 0\\nv 8 3 0\\nv 8 4 0\\nv 8 5 0\\nv 8 6 0\\nv 8 7 0\\nv 8 8 0\\nv 8 9 0\\nv 8 10 0\\nv 9 0 0\\nv 9 1 0\\nv 9 2 0\\nv 9 3 0\\nv 9 4 0\\nv 9 5 0\\nv 9 6 0\\nv 9 7 0\\nv 9 8 0\\nv 9 9 0\\nv 9 10 0\\nv 10 0 0\\nv 10 1 0\\nv 10 2 0\\nv 10 3 0\\nv 10 4 0\\nv 10 5 0\\nv 10 6 0\\nv 10 7 0\\nv 10 8 0\\nv 10 9 0\\nv 10 10 0\\nf 1 12 13 2\\nf 12 23 24 13\\nf 23 34 35 24\\nf 34 45 46 35\\nf 45 56 57 46\\nf 56 67 68 57\\nf 67 78 79 68\\nf 78 89 90 79\\nf 89 100 101 90\\nf 100 111 112 101\\nf 2 13 14 3\\nf 13 24 25 14\\nf 24 35 36 25\\nf 35 46 47 36\\nf 46 57 58 47\\nf 57 68 69 58\\nf 68 79 80 69\\nf 79 90 91 80\\nf 90 101 102 91\\nf 101 112 113 102\\nf 3 14 15 4\\nf 14 25 26 15\\nf 25 36 37 26\\nf 36 47 48 37\\nf 47 58 59 48\\nf 58 69 70 59\\nf 69 80 81 70\\nf 80 91 92 81\\nf 91 102 103 92\\nf 102 113 114 103\\nf 4 15 16 5\\nf 15 26 27 16\\nf 26 37 38 27\\nf 37 48 49 38\\nf 48 59 60 49\\nf 59 70 71 60\\nf 70 81 82 71\\nf 81 92 93 82\\nf 92 103 104 93\\nf 103 114 115 104\\nf 5 16 17 6\\nf 16 27 28 17\\nf 27 38 39 28\\nf 38 49 50 39\\nf 49 60 61 50\\nf 60 71 72 61\\nf 71 82 83 72\\nf 82 93 94 83\\nf 93 104 105 94\\nf 104 115 116 105\\nf 6 17 18 7\\nf 17 28 29 18\\nf 28 39 40 29\\nf 39 50 51 40\\nf 50 61 62 51\\nf 61 72 73 62\\nf 72 83 84 73\\nf 83 94 95 84\\nf 94 105 106 95\\nf 105 116 117 106\\nf 7 18 19 8\\nf 18 29 30 19\\nf 29 40 41 30\\nf 40 51 52 41\\nf 51 62 63 52\\nf 62 73 74 63\\nf 73 84 85 74\\nf 84 95 96 85\\nf 95 106 107 96\\nf 106 117 118 107\\nf 8 19 20 9\\nf 19 30 31 20\\nf 30 41 42 31\\nf 41 52 53 42\\nf 52 63 64 53\\nf 63 74 75 64\\nf 74 85 86 75\\nf 85 96 97 86\\nf 96 107 108 97\\nf 107 118 119 108\\nf 9 20 21 10\\nf 20 31 32 21\\nf 31 42 43 32\\nf 42 53 54 43\\nf 53 64 65 54\\nf 64 75 76 65\\nf 75 86 87 76\\nf 86 97 98 87\\nf 97 108 109 98\\nf 108 119 120 109\\nf 10 21 22 11\\nf 21 32 33 22\\nf 32 43 44 33\\nf 43 54 55 44\\nf 54 65 66 55\\nf 65 76 77 66\\nf 76 87 88 77\\nf 87 98 99 88\\nf 98 109 110 99\\nf 109 120 121 110\\n'"
      ]
     },
     "execution_count": 200,
     "metadata": {},
     "output_type": "execute_result"
    }
   ],
   "source": [
    "data"
   ]
  },
  {
   "cell_type": "markdown",
   "metadata": {},
   "source": [
    "### How do we make this readable?"
   ]
  },
  {
   "cell_type": "code",
   "execution_count": 201,
   "metadata": {},
   "outputs": [
    {
     "ename": "SyntaxError",
     "evalue": "invalid syntax (<ipython-input-201-cd023edf9a77>, line 11)",
     "output_type": "error",
     "traceback": [
      "\u001b[1;36m  File \u001b[1;32m\"<ipython-input-201-cd023edf9a77>\"\u001b[1;36m, line \u001b[1;32m11\u001b[0m\n\u001b[1;33m    head = ???\u001b[0m\n\u001b[1;37m           ^\u001b[0m\n\u001b[1;31mSyntaxError\u001b[0m\u001b[1;31m:\u001b[0m invalid syntax\n"
     ]
    }
   ],
   "source": [
    "# parsing the obj file, filling the data lists\n",
    "for line in data:\n",
    "    parts = ??? # TODO: split the string line by ' '\n",
    "\n",
    "    # checking if it contains data, if not skip the line\n",
    "    if not parts:\n",
    "        continue\n",
    "        \n",
    "    # assigning the 1st element to head and the rest to tail \n",
    "    head = ??? # TODO: get the first element in list of parts\n",
    "    tail = ??? # TODO: get the all other elements in list of parts\n",
    "    \n",
    "    # appending vertex cordinations in (xyz) and assigning an index to them in (points)\n",
    "    if head == 'v':\n",
    "        # This is a smaller way to write out for loops\n",
    "        # To understand read: https://docs.python.org/2/tutorial/datastructures.html#list-comprehensions\n",
    "        ftail = [float(x) for x in tail] \n",
    "        \n",
    "        xyz.append(ftail)\n",
    "        points.append(len(xyz)-1)\n",
    "        \n",
    "    # iterating through the edges of the faces and appending them in (lines)\n",
    "    elif head == 'f':\n",
    "        ftail = [float(x) for x in tail]\n",
    "        for i in range(len(ftail)):\n",
    "            sp = ftail[i%len(ftail)]\n",
    "            ep = ftail[(i+1)%len(ftail)]\n",
    "            lines.append((int(sp)-1, int(ep)-1))\n"
   ]
  },
  {
   "cell_type": "markdown",
   "metadata": {},
   "source": [
    "### How do we preprocess the data?"
   ]
  },
  {
   "cell_type": "code",
   "execution_count": null,
   "metadata": {},
   "outputs": [],
   "source": [
    "# points to vertices (welding similar vertices)\n",
    "x2v = {} # this is the dictionary we will use to map the points to vertices\n",
    "tol = 0.001 ** 2 # this is the tolerance\n",
    "\n",
    "# for each point\n",
    "for i, x in enumerate(xyz):\n",
    "    found = False\n",
    "    for j, v in enumerate(vertices):\n",
    "        if (x[0] - v[0]) ** 2 < tol \\\n",
    "                and (x[1] - v[1]) ** 2 < tol \\\n",
    "                and (x[2] - v[2]) ** 2 < tol:\n",
    "            found = True\n",
    "            x2v[i] = j\n",
    "            break # get out of this loop, if a match is found\n",
    "    if not found:\n",
    "        x2v[i] = len(vertices)\n",
    "        vertices.append(x)\n",
    "    \n",
    "    # TODO: finding the bounding box\n",
    "    # for number in range 3\n",
    "        # if the current coordinate is bigger than the biggest current coordinate, replace the max coordinate\n",
    "        # if the current coordinate is smaller...\n"
   ]
  },
  {
   "cell_type": "markdown",
   "metadata": {},
   "source": [
    "### Anything we forgot?"
   ]
  },
  {
   "cell_type": "code",
   "execution_count": null,
   "metadata": {},
   "outputs": [],
   "source": [
    "# redefining the indexes: remapping the points to new, velded locations\n",
    "points[:] = [x2v[index] for index in points]\n",
    "\n",
    "# redefining the edges by the refined indexes\n",
    "edges = [(x2v[u[0]], x2v[u[1]]) for u in lines]\n",
    "\n",
    "# reserving the Initial State of the system\n",
    "xyzIS = copy.deepcopy(vertices)"
   ]
  },
  {
   "cell_type": "markdown",
   "metadata": {},
   "source": [
    "### How does the initial state look like?"
   ]
  },
  {
   "cell_type": "code",
   "execution_count": null,
   "metadata": {},
   "outputs": [],
   "source": [
    "xyzIS"
   ]
  },
  {
   "cell_type": "markdown",
   "metadata": {},
   "source": [
    "# Dynamic relaxation\n",
    "### Input data:\n",
    "* vertices: a list of unique xyz coordinates\n",
    "* edges: a list of pairs of vertex indices\n",
    "* points: index list of fixed vertices\n",
    "* bbmax, bbmin : Bounding box coordinate list\n",
    "\n",
    "### Output data:\n",
    "* xyzFS : Final state of the system"
   ]
  },
  {
   "cell_type": "code",
   "execution_count": null,
   "metadata": {},
   "outputs": [],
   "source": [
    "# fixed points here are set to be the boundary of the rectangle\n",
    "fixed = []\n",
    "for i, pnt in enumerate(iter(xyz)):\n",
    "    # check if the points are no closer to \n",
    "    if abs(pnt[0] - bbmin[0]) < 0.01  \\\n",
    "        or abs(pnt[0] - bbmax[0]) < 0.01 \\\n",
    "        or abs(pnt[1] - bbmin[1]) < 0.01 \\\n",
    "        or abs(pnt[1] - bbmax[1]) < 0.01:\n",
    "        fixed.append(i)"
   ]
  },
  {
   "cell_type": "code",
   "execution_count": null,
   "metadata": {},
   "outputs": [],
   "source": [
    "no_vert = len(vertices)\n",
    "no_ed = len(edges)\n",
    "\n",
    "freePoints = list(set(range(no_vert)) - set(fixed))\n",
    "\n",
    "xyz = array(vertices)\n",
    "\n",
    "# p : Applied Load Component which in our case is zero\n",
    "p = # create an NumPy array of zeroes of shape no_vert x 3 of type float64\n",
    "\n",
    "# W : Gravity Force\n",
    "W = array([array([0,0,9.8]) for i in range(no_vert)])\n",
    "\n",
    "# v : Velosity\n",
    "v = zeros((no_vert, 3), dtype=float64)\n",
    "\n",
    "\n",
    "# restlength : Rest Length of the springs\n",
    "diff = array([(xyz[edges[i][1]] - xyz[edges[i][0]]) for i in range(no_ed)])\n",
    "\n",
    "restlength = array([sqrt(diff[i,0]*diff[i,0] + diff[i,1]*diff[i,1] + diff[i,2]*diff[i,2]) for i in range(no_ed)])"
   ]
  },
  {
   "cell_type": "markdown",
   "metadata": {},
   "source": [
    "### We need to make some assumptions, while making this code..."
   ]
  },
  {
   "cell_type": "code",
   "execution_count": null,
   "metadata": {},
   "outputs": [],
   "source": [
    "# adamp : Acceleration damp controls the stability of the system\n",
    "adamp = 10\n",
    "IterationMax = 100\n",
    "\n",
    "# K : Elasticity Constant in Hooke's law\n",
    "K = 20\n",
    "\n",
    "# dt : Time intervals\n",
    "interval = 0.1\n",
    "mass = 1"
   ]
  },
  {
   "cell_type": "code",
   "execution_count": null,
   "metadata": {},
   "outputs": [],
   "source": [
    "# this is a loop, in which we progress through time\n",
    "for k in range(IterationMax):\n",
    "    \n",
    "    # S : Stiffness Force\n",
    "    S = ??? # TODO: create an NumPy array of zeroes of shape no_vert x 3 of type float64\n",
    "    # R : Final Forces\n",
    "    R = ??? # TODO: create an NumPy array of zeroes of shape no_vert x 3 of type float64\n",
    "        \n",
    "    # xyz0 : Initial Position\n",
    "    xyz0 = xyz.copy()\n",
    "    # vp : Initial Velocity\n",
    "    vp = v.copy()\n",
    "    \n",
    "    # calculating the length of the edges\n",
    "    di = array([(xyz[edges[i][1]] - xyz[edges[i][0]]) for i in range(no_ed)])\n",
    "    dist = array([sqrt(di[i,0]*di[i,0] + di[i,1]*di[i,1] + di[i,2]*di[i,2]) for i in range(no_ed)])\n",
    "\n",
    "    # Hooke's law : Force = length difference * Elasticity Constant (K)\n",
    "    EdgeForce = ??? # TODO: make the formula above\n",
    "    # Edge Force : Decomposing the existing force in each edge into the 3 dimensions \n",
    "    EdgeForceS = zeros((no_ed, 3), dtype=float64)\n",
    "\n",
    "    # iterating throughout the edges\n",
    "    for i in range(no_ed):\n",
    "        for j in range(3):\n",
    "            # Separating the forces into X, Y, Z dimensions\n",
    "            EdgeForceS[i,j] = (di[i,j] / dist[i]) * EdgeForce[i]\n",
    "\n",
    "        # Adding the force of each edge to the coresponding nodes\n",
    "        S[edges[i][0]] -= EdgeForceS[i]\n",
    "        S[edges[i][1]] += EdgeForceS[i]\n",
    "    \n",
    "    R[freePoints] = p[freePoints] + W[freePoints] - S[freePoints]\n",
    "    \n",
    "    A = 1/(1 + adamp * dt * 0.5)\n",
    "    B = (1 - adamp * dt * 0.5 ) / (1 + adamp * dt * 0.5)\n",
    "    \n",
    "    # updating the velocity\n",
    "    v[freePoints] = A * dt * R[freePoints] / mass + B * vp[freePoints]\n",
    "    # updating the position\n",
    "    xyz[freePoints] = xyz0[freePoints] + dt * v[freePoints]\n",
    "\n",
    "\n",
    "xyzFS = xyz"
   ]
  },
  {
   "cell_type": "markdown",
   "metadata": {},
   "source": [
    "# 3. Plotter\n",
    "\n",
    "The last step of the process uses Matplotlib library used in the previous workshop. In this step we will create a visualization for the initial state and/or final state of the system. Our inputs are:\n",
    "\n",
    "* xyzIS : initial state of the system\n",
    "* xyzFS : final state of the system\n",
    "* *Optional* bbmax, bbmin : Bounding box coordinate list"
   ]
  },
  {
   "cell_type": "code",
   "execution_count": null,
   "metadata": {},
   "outputs": [],
   "source": [
    "coordinates = xyzFS\n",
    "\n",
    "# initiating the plotter\n",
    "fig = plt.figure()\n",
    "ax = fig.gca(projection='3d')\n",
    "\n",
    "# plotting edges\n",
    "for u, v in edges:\n",
    "    ax.plot([coordinates[u][0], coordinates[v][0]],\n",
    "            [coordinates[u][1], coordinates[v][1]],\n",
    "            [coordinates[u][2], coordinates[v][2]], color='k')\n",
    "\n",
    "# plotting points\n",
    "for i in points:\n",
    "    ax.scatter(coordinates[i][0], coordinates[i][1], coordinates[i][2],\n",
    "               color='r', s=4)\n",
    "    \n",
    "# This command changes the scale of the axes\n",
    "ax.scatter([bbmin[0], bbmax[0]], [bbmin[1], bbmax[1]], [bbmin[2], bbmax[2]+10], color='w', s=1)\n",
    "\n",
    "# These are needed for the \n",
    "# ax.set_xlim([bbmin[0], bbmax[0]])\n",
    "# ax.set_ylim([bbmin[1], bbmax[1]])\n",
    "# ax.set_zlim([bbmin[2], bbmax[2]+10])\n",
    "\n",
    "plt.show()"
   ]
  },
  {
   "cell_type": "markdown",
   "metadata": {},
   "source": [
    "# A library that works a bit faster ...\n",
    "[Plotly](https://plot.ly/python/) is another open source library for Python, that works significantly faster than Matplotlib on Jupyter notebooks. Also, it's a bit easier to use: see for yourself below."
   ]
  },
  {
   "cell_type": "code",
   "execution_count": 205,
   "metadata": {},
   "outputs": [
    {
     "data": {
      "application/vnd.plotly.v1+json": {
       "config": {
        "plotlyServerURL": "https://plot.ly"
       },
       "data": [
        {
         "color": "lightpink",
         "opacity": 1,
         "type": "mesh3d",
         "x": [
          0,
          0,
          0,
          0,
          0,
          0,
          0,
          0,
          0,
          0,
          0,
          1,
          1,
          1,
          1,
          1,
          1,
          1,
          1,
          1,
          1,
          1,
          2,
          2,
          2,
          2,
          2,
          2,
          2,
          2,
          2,
          2,
          2,
          3,
          3,
          3,
          3,
          3,
          3,
          3,
          3,
          3,
          3,
          3,
          4,
          4,
          4,
          4,
          4,
          4,
          4,
          4,
          4,
          4,
          4,
          5,
          5,
          5,
          5,
          5,
          5,
          5,
          5,
          5,
          5,
          5,
          6,
          6,
          6,
          6,
          6,
          6,
          6,
          6,
          6,
          6,
          6,
          7,
          7,
          7,
          7,
          7,
          7,
          7,
          7,
          7,
          7,
          7,
          8,
          8,
          8,
          8,
          8,
          8,
          8,
          8,
          8,
          8,
          8,
          9,
          9,
          9,
          9,
          9,
          9,
          9,
          9,
          9,
          9,
          9,
          10,
          10,
          10,
          10,
          10,
          10,
          10,
          10,
          10,
          10,
          10
         ],
         "y": [
          0,
          1,
          2,
          3,
          4,
          5,
          6,
          7,
          8,
          9,
          10,
          0,
          1,
          2,
          3,
          4,
          5,
          6,
          7,
          8,
          9,
          10,
          0,
          1,
          2,
          3,
          4,
          5,
          6,
          7,
          8,
          9,
          10,
          0,
          1,
          2,
          3,
          4,
          5,
          6,
          7,
          8,
          9,
          10,
          0,
          1,
          2,
          3,
          4,
          5,
          6,
          7,
          8,
          9,
          10,
          0,
          1,
          2,
          3,
          4,
          5,
          6,
          7,
          8,
          9,
          10,
          0,
          1,
          2,
          3,
          4,
          5,
          6,
          7,
          8,
          9,
          10,
          0,
          1,
          2,
          3,
          4,
          5,
          6,
          7,
          8,
          9,
          10,
          0,
          1,
          2,
          3,
          4,
          5,
          6,
          7,
          8,
          9,
          10,
          0,
          1,
          2,
          3,
          4,
          5,
          6,
          7,
          8,
          9,
          10,
          0,
          1,
          2,
          3,
          4,
          5,
          6,
          7,
          8,
          9,
          10
         ],
         "z": [
          0,
          0,
          0,
          0,
          0,
          0,
          0,
          0,
          0,
          0,
          0,
          0,
          0,
          0,
          0,
          0,
          0,
          0,
          0,
          0,
          0,
          0,
          0,
          0,
          0,
          0,
          0,
          0,
          0,
          0,
          0,
          0,
          0,
          0,
          0,
          0,
          0,
          0,
          0,
          0,
          0,
          0,
          0,
          0,
          0,
          0,
          0,
          0,
          0,
          0,
          0,
          0,
          0,
          0,
          0,
          0,
          0,
          0,
          0,
          0,
          0,
          0,
          0,
          0,
          0,
          0,
          0,
          0,
          0,
          0,
          0,
          0,
          0,
          0,
          0,
          0,
          0,
          0,
          0,
          0,
          0,
          0,
          0,
          0,
          0,
          0,
          0,
          0,
          0,
          0,
          0,
          0,
          0,
          0,
          0,
          0,
          0,
          0,
          0,
          0,
          0,
          0,
          0,
          0,
          0,
          0,
          0,
          0,
          0,
          0,
          0,
          0,
          0,
          0,
          0,
          0,
          0,
          0,
          0,
          0,
          0
         ]
        },
        {
         "color": "blue",
         "opacity": 0.2,
         "type": "mesh3d",
         "x": [
          0,
          0,
          0,
          0,
          0,
          0,
          0,
          0,
          0,
          0,
          0,
          1,
          0.8063074345615718,
          0.7324246313982958,
          0.7282463541574316,
          0.7331432650967492,
          0.7354910562323982,
          0.7331432650967492,
          0.7282463541574316,
          0.7324246313982957,
          0.8063074345615717,
          1,
          2,
          1.8398162418819188,
          1.6898759819426181,
          1.6216543327135504,
          1.60318973772365,
          1.600215522252702,
          1.60318973772365,
          1.6216543327135502,
          1.6898759819426186,
          1.8398162418819186,
          2,
          3,
          2.8899722917798867,
          2.767584953145384,
          2.6770313943294095,
          2.633454745808191,
          2.621847111323692,
          2.633454745808191,
          2.677031394329409,
          2.7675849531453838,
          2.889972291779887,
          3,
          4,
          3.943879055053949,
          3.8791326112288966,
          3.822583269907391,
          3.7881488955975993,
          3.777259647320074,
          3.7881488955975993,
          3.822583269907391,
          3.879132611228897,
          3.943879055053949,
          4,
          5,
          5,
          5,
          5,
          5,
          5,
          5,
          4.999999999999999,
          5,
          5,
          5,
          6,
          6.056120944946051,
          6.120867388771103,
          6.1774167300926095,
          6.211851104402401,
          6.222740352679926,
          6.211851104402401,
          6.1774167300926095,
          6.120867388771103,
          6.056120944946051,
          6,
          7,
          7.110027708220113,
          7.232415046854616,
          7.3229686056705905,
          7.366545254191808,
          7.378152888676309,
          7.366545254191808,
          7.3229686056705905,
          7.232415046854616,
          7.110027708220113,
          7,
          8,
          8.160183758118082,
          8.310124018057381,
          8.37834566728645,
          8.39681026227635,
          8.399784477747298,
          8.39681026227635,
          8.37834566728645,
          8.310124018057381,
          8.160183758118082,
          8,
          9,
          9.193692565438429,
          9.267575368601705,
          9.27175364584257,
          9.266856734903252,
          9.264508943767602,
          9.266856734903252,
          9.27175364584257,
          9.267575368601705,
          9.193692565438429,
          9,
          10,
          10,
          10,
          10,
          10,
          10,
          10,
          10,
          10,
          10,
          10
         ],
         "y": [
          0,
          1,
          2,
          3,
          4,
          5,
          6,
          7,
          8,
          9,
          10,
          0,
          0.806307434561572,
          1.8398162418819184,
          2.8899722917798876,
          3.9438790550539484,
          5.000000000000001,
          6.056120944946051,
          7.110027708220113,
          8.16018375811808,
          9.193692565438429,
          10,
          0,
          0.7324246313982956,
          1.6898759819426186,
          2.7675849531453838,
          3.8791326112288975,
          5,
          6.120867388771103,
          7.232415046854616,
          8.310124018057381,
          9.267575368601705,
          10,
          0,
          0.7282463541574314,
          1.6216543327135504,
          2.677031394329409,
          3.822583269907391,
          5,
          6.177416730092609,
          7.322968605670591,
          8.37834566728645,
          9.27175364584257,
          10,
          0,
          0.7331432650967492,
          1.60318973772365,
          2.633454745808191,
          3.7881488955975993,
          5,
          6.211851104402402,
          7.366545254191808,
          8.39681026227635,
          9.266856734903252,
          10,
          0,
          0.7354910562323983,
          1.600215522252702,
          2.621847111323692,
          3.777259647320074,
          5,
          6.222740352679926,
          7.378152888676309,
          8.399784477747298,
          9.264508943767602,
          10,
          0,
          0.7331432650967492,
          1.60318973772365,
          2.633454745808191,
          3.7881488955975993,
          5,
          6.211851104402402,
          7.366545254191808,
          8.39681026227635,
          9.266856734903252,
          10,
          0,
          0.7282463541574313,
          1.6216543327135502,
          2.677031394329409,
          3.822583269907391,
          5,
          6.177416730092609,
          7.322968605670591,
          8.37834566728645,
          9.27175364584257,
          10,
          0,
          0.7324246313982956,
          1.6898759819426183,
          2.7675849531453838,
          3.8791326112288975,
          4.999999999999999,
          6.120867388771104,
          7.232415046854616,
          8.310124018057381,
          9.267575368601705,
          10,
          0,
          0.8063074345615715,
          1.8398162418819184,
          2.889972291779887,
          3.9438790550539484,
          5,
          6.056120944946051,
          7.110027708220113,
          8.160183758118082,
          9.193692565438429,
          10,
          0,
          1,
          2,
          3,
          4,
          5,
          6,
          7,
          8,
          9,
          10
         ],
         "z": [
          0,
          0,
          0,
          0,
          0,
          0,
          0,
          0,
          0,
          0,
          0,
          0,
          0.7520903523485307,
          1.0313940935494852,
          1.178761782911768,
          1.2605749724845494,
          1.2869213444398497,
          1.2605749724845494,
          1.1787617829117678,
          1.0313940935494854,
          0.7520903523485304,
          0,
          0,
          1.0313940935494854,
          1.7228804912419136,
          2.108959749245439,
          2.3055204507318767,
          2.3664705952870904,
          2.3055204507318767,
          2.108959749245439,
          1.7228804912419131,
          1.0313940935494854,
          0,
          0,
          1.178761782911768,
          2.1089597492454395,
          2.7336908138490865,
          3.0730706114684985,
          3.178779542455676,
          3.0730706114684985,
          2.733690813849086,
          2.108959749245439,
          1.1787617829117676,
          0,
          0,
          1.2605749724845496,
          2.3055204507318767,
          3.0730706114684985,
          3.52476528869426,
          3.6706223283963597,
          3.5247652886942595,
          3.073070611468499,
          2.3055204507318763,
          1.26057497248455,
          0,
          0,
          1.2869213444398497,
          2.36647059528709,
          3.1787795424556764,
          3.6706223283963597,
          3.832215944645207,
          3.6706223283963593,
          3.178779542455676,
          2.366470595287091,
          1.2869213444398493,
          0,
          0,
          1.2605749724845494,
          2.3055204507318767,
          3.0730706114684985,
          3.5247652886942595,
          3.6706223283963593,
          3.5247652886942595,
          3.073070611468499,
          2.3055204507318763,
          1.26057497248455,
          0,
          0,
          1.1787617829117678,
          2.108959749245439,
          2.7336908138490865,
          3.073070611468499,
          3.178779542455676,
          3.073070611468499,
          2.733690813849086,
          2.108959749245439,
          1.1787617829117676,
          0,
          0,
          1.0313940935494852,
          1.7228804912419133,
          2.108959749245439,
          2.3055204507318763,
          2.366470595287091,
          2.3055204507318763,
          2.1089597492454395,
          1.722880491241913,
          1.0313940935494856,
          0,
          0,
          0.752090352348531,
          1.0313940935494854,
          1.1787617829117678,
          1.2605749724845499,
          1.2869213444398493,
          1.26057497248455,
          1.1787617829117676,
          1.0313940935494856,
          0.7520903523485314,
          0,
          0,
          0,
          0,
          0,
          0,
          0,
          0,
          0,
          0,
          0,
          0
         ]
        }
       ],
       "layout": {
        "template": {
         "data": {
          "bar": [
           {
            "error_x": {
             "color": "#2a3f5f"
            },
            "error_y": {
             "color": "#2a3f5f"
            },
            "marker": {
             "line": {
              "color": "#E5ECF6",
              "width": 0.5
             }
            },
            "type": "bar"
           }
          ],
          "barpolar": [
           {
            "marker": {
             "line": {
              "color": "#E5ECF6",
              "width": 0.5
             }
            },
            "type": "barpolar"
           }
          ],
          "carpet": [
           {
            "aaxis": {
             "endlinecolor": "#2a3f5f",
             "gridcolor": "white",
             "linecolor": "white",
             "minorgridcolor": "white",
             "startlinecolor": "#2a3f5f"
            },
            "baxis": {
             "endlinecolor": "#2a3f5f",
             "gridcolor": "white",
             "linecolor": "white",
             "minorgridcolor": "white",
             "startlinecolor": "#2a3f5f"
            },
            "type": "carpet"
           }
          ],
          "choropleth": [
           {
            "colorbar": {
             "outlinewidth": 0,
             "ticks": ""
            },
            "type": "choropleth"
           }
          ],
          "contour": [
           {
            "colorbar": {
             "outlinewidth": 0,
             "ticks": ""
            },
            "colorscale": [
             [
              0,
              "#0d0887"
             ],
             [
              0.1111111111111111,
              "#46039f"
             ],
             [
              0.2222222222222222,
              "#7201a8"
             ],
             [
              0.3333333333333333,
              "#9c179e"
             ],
             [
              0.4444444444444444,
              "#bd3786"
             ],
             [
              0.5555555555555556,
              "#d8576b"
             ],
             [
              0.6666666666666666,
              "#ed7953"
             ],
             [
              0.7777777777777778,
              "#fb9f3a"
             ],
             [
              0.8888888888888888,
              "#fdca26"
             ],
             [
              1,
              "#f0f921"
             ]
            ],
            "type": "contour"
           }
          ],
          "contourcarpet": [
           {
            "colorbar": {
             "outlinewidth": 0,
             "ticks": ""
            },
            "type": "contourcarpet"
           }
          ],
          "heatmap": [
           {
            "colorbar": {
             "outlinewidth": 0,
             "ticks": ""
            },
            "colorscale": [
             [
              0,
              "#0d0887"
             ],
             [
              0.1111111111111111,
              "#46039f"
             ],
             [
              0.2222222222222222,
              "#7201a8"
             ],
             [
              0.3333333333333333,
              "#9c179e"
             ],
             [
              0.4444444444444444,
              "#bd3786"
             ],
             [
              0.5555555555555556,
              "#d8576b"
             ],
             [
              0.6666666666666666,
              "#ed7953"
             ],
             [
              0.7777777777777778,
              "#fb9f3a"
             ],
             [
              0.8888888888888888,
              "#fdca26"
             ],
             [
              1,
              "#f0f921"
             ]
            ],
            "type": "heatmap"
           }
          ],
          "heatmapgl": [
           {
            "colorbar": {
             "outlinewidth": 0,
             "ticks": ""
            },
            "colorscale": [
             [
              0,
              "#0d0887"
             ],
             [
              0.1111111111111111,
              "#46039f"
             ],
             [
              0.2222222222222222,
              "#7201a8"
             ],
             [
              0.3333333333333333,
              "#9c179e"
             ],
             [
              0.4444444444444444,
              "#bd3786"
             ],
             [
              0.5555555555555556,
              "#d8576b"
             ],
             [
              0.6666666666666666,
              "#ed7953"
             ],
             [
              0.7777777777777778,
              "#fb9f3a"
             ],
             [
              0.8888888888888888,
              "#fdca26"
             ],
             [
              1,
              "#f0f921"
             ]
            ],
            "type": "heatmapgl"
           }
          ],
          "histogram": [
           {
            "marker": {
             "colorbar": {
              "outlinewidth": 0,
              "ticks": ""
             }
            },
            "type": "histogram"
           }
          ],
          "histogram2d": [
           {
            "colorbar": {
             "outlinewidth": 0,
             "ticks": ""
            },
            "colorscale": [
             [
              0,
              "#0d0887"
             ],
             [
              0.1111111111111111,
              "#46039f"
             ],
             [
              0.2222222222222222,
              "#7201a8"
             ],
             [
              0.3333333333333333,
              "#9c179e"
             ],
             [
              0.4444444444444444,
              "#bd3786"
             ],
             [
              0.5555555555555556,
              "#d8576b"
             ],
             [
              0.6666666666666666,
              "#ed7953"
             ],
             [
              0.7777777777777778,
              "#fb9f3a"
             ],
             [
              0.8888888888888888,
              "#fdca26"
             ],
             [
              1,
              "#f0f921"
             ]
            ],
            "type": "histogram2d"
           }
          ],
          "histogram2dcontour": [
           {
            "colorbar": {
             "outlinewidth": 0,
             "ticks": ""
            },
            "colorscale": [
             [
              0,
              "#0d0887"
             ],
             [
              0.1111111111111111,
              "#46039f"
             ],
             [
              0.2222222222222222,
              "#7201a8"
             ],
             [
              0.3333333333333333,
              "#9c179e"
             ],
             [
              0.4444444444444444,
              "#bd3786"
             ],
             [
              0.5555555555555556,
              "#d8576b"
             ],
             [
              0.6666666666666666,
              "#ed7953"
             ],
             [
              0.7777777777777778,
              "#fb9f3a"
             ],
             [
              0.8888888888888888,
              "#fdca26"
             ],
             [
              1,
              "#f0f921"
             ]
            ],
            "type": "histogram2dcontour"
           }
          ],
          "mesh3d": [
           {
            "colorbar": {
             "outlinewidth": 0,
             "ticks": ""
            },
            "type": "mesh3d"
           }
          ],
          "parcoords": [
           {
            "line": {
             "colorbar": {
              "outlinewidth": 0,
              "ticks": ""
             }
            },
            "type": "parcoords"
           }
          ],
          "scatter": [
           {
            "marker": {
             "colorbar": {
              "outlinewidth": 0,
              "ticks": ""
             }
            },
            "type": "scatter"
           }
          ],
          "scatter3d": [
           {
            "line": {
             "colorbar": {
              "outlinewidth": 0,
              "ticks": ""
             }
            },
            "marker": {
             "colorbar": {
              "outlinewidth": 0,
              "ticks": ""
             }
            },
            "type": "scatter3d"
           }
          ],
          "scattercarpet": [
           {
            "marker": {
             "colorbar": {
              "outlinewidth": 0,
              "ticks": ""
             }
            },
            "type": "scattercarpet"
           }
          ],
          "scattergeo": [
           {
            "marker": {
             "colorbar": {
              "outlinewidth": 0,
              "ticks": ""
             }
            },
            "type": "scattergeo"
           }
          ],
          "scattergl": [
           {
            "marker": {
             "colorbar": {
              "outlinewidth": 0,
              "ticks": ""
             }
            },
            "type": "scattergl"
           }
          ],
          "scattermapbox": [
           {
            "marker": {
             "colorbar": {
              "outlinewidth": 0,
              "ticks": ""
             }
            },
            "type": "scattermapbox"
           }
          ],
          "scatterpolar": [
           {
            "marker": {
             "colorbar": {
              "outlinewidth": 0,
              "ticks": ""
             }
            },
            "type": "scatterpolar"
           }
          ],
          "scatterpolargl": [
           {
            "marker": {
             "colorbar": {
              "outlinewidth": 0,
              "ticks": ""
             }
            },
            "type": "scatterpolargl"
           }
          ],
          "scatterternary": [
           {
            "marker": {
             "colorbar": {
              "outlinewidth": 0,
              "ticks": ""
             }
            },
            "type": "scatterternary"
           }
          ],
          "surface": [
           {
            "colorbar": {
             "outlinewidth": 0,
             "ticks": ""
            },
            "colorscale": [
             [
              0,
              "#0d0887"
             ],
             [
              0.1111111111111111,
              "#46039f"
             ],
             [
              0.2222222222222222,
              "#7201a8"
             ],
             [
              0.3333333333333333,
              "#9c179e"
             ],
             [
              0.4444444444444444,
              "#bd3786"
             ],
             [
              0.5555555555555556,
              "#d8576b"
             ],
             [
              0.6666666666666666,
              "#ed7953"
             ],
             [
              0.7777777777777778,
              "#fb9f3a"
             ],
             [
              0.8888888888888888,
              "#fdca26"
             ],
             [
              1,
              "#f0f921"
             ]
            ],
            "type": "surface"
           }
          ],
          "table": [
           {
            "cells": {
             "fill": {
              "color": "#EBF0F8"
             },
             "line": {
              "color": "white"
             }
            },
            "header": {
             "fill": {
              "color": "#C8D4E3"
             },
             "line": {
              "color": "white"
             }
            },
            "type": "table"
           }
          ]
         },
         "layout": {
          "annotationdefaults": {
           "arrowcolor": "#2a3f5f",
           "arrowhead": 0,
           "arrowwidth": 1
          },
          "colorscale": {
           "diverging": [
            [
             0,
             "#8e0152"
            ],
            [
             0.1,
             "#c51b7d"
            ],
            [
             0.2,
             "#de77ae"
            ],
            [
             0.3,
             "#f1b6da"
            ],
            [
             0.4,
             "#fde0ef"
            ],
            [
             0.5,
             "#f7f7f7"
            ],
            [
             0.6,
             "#e6f5d0"
            ],
            [
             0.7,
             "#b8e186"
            ],
            [
             0.8,
             "#7fbc41"
            ],
            [
             0.9,
             "#4d9221"
            ],
            [
             1,
             "#276419"
            ]
           ],
           "sequential": [
            [
             0,
             "#0d0887"
            ],
            [
             0.1111111111111111,
             "#46039f"
            ],
            [
             0.2222222222222222,
             "#7201a8"
            ],
            [
             0.3333333333333333,
             "#9c179e"
            ],
            [
             0.4444444444444444,
             "#bd3786"
            ],
            [
             0.5555555555555556,
             "#d8576b"
            ],
            [
             0.6666666666666666,
             "#ed7953"
            ],
            [
             0.7777777777777778,
             "#fb9f3a"
            ],
            [
             0.8888888888888888,
             "#fdca26"
            ],
            [
             1,
             "#f0f921"
            ]
           ],
           "sequentialminus": [
            [
             0,
             "#0d0887"
            ],
            [
             0.1111111111111111,
             "#46039f"
            ],
            [
             0.2222222222222222,
             "#7201a8"
            ],
            [
             0.3333333333333333,
             "#9c179e"
            ],
            [
             0.4444444444444444,
             "#bd3786"
            ],
            [
             0.5555555555555556,
             "#d8576b"
            ],
            [
             0.6666666666666666,
             "#ed7953"
            ],
            [
             0.7777777777777778,
             "#fb9f3a"
            ],
            [
             0.8888888888888888,
             "#fdca26"
            ],
            [
             1,
             "#f0f921"
            ]
           ]
          },
          "colorway": [
           "#636efa",
           "#EF553B",
           "#00cc96",
           "#ab63fa",
           "#FFA15A",
           "#19d3f3",
           "#FF6692",
           "#B6E880",
           "#FF97FF",
           "#FECB52"
          ],
          "font": {
           "color": "#2a3f5f"
          },
          "geo": {
           "bgcolor": "white",
           "lakecolor": "white",
           "landcolor": "#E5ECF6",
           "showlakes": true,
           "showland": true,
           "subunitcolor": "white"
          },
          "hoverlabel": {
           "align": "left"
          },
          "hovermode": "closest",
          "mapbox": {
           "style": "light"
          },
          "paper_bgcolor": "white",
          "plot_bgcolor": "#E5ECF6",
          "polar": {
           "angularaxis": {
            "gridcolor": "white",
            "linecolor": "white",
            "ticks": ""
           },
           "bgcolor": "#E5ECF6",
           "radialaxis": {
            "gridcolor": "white",
            "linecolor": "white",
            "ticks": ""
           }
          },
          "scene": {
           "xaxis": {
            "backgroundcolor": "#E5ECF6",
            "gridcolor": "white",
            "gridwidth": 2,
            "linecolor": "white",
            "showbackground": true,
            "ticks": "",
            "zerolinecolor": "white"
           },
           "yaxis": {
            "backgroundcolor": "#E5ECF6",
            "gridcolor": "white",
            "gridwidth": 2,
            "linecolor": "white",
            "showbackground": true,
            "ticks": "",
            "zerolinecolor": "white"
           },
           "zaxis": {
            "backgroundcolor": "#E5ECF6",
            "gridcolor": "white",
            "gridwidth": 2,
            "linecolor": "white",
            "showbackground": true,
            "ticks": "",
            "zerolinecolor": "white"
           }
          },
          "shapedefaults": {
           "line": {
            "color": "#2a3f5f"
           }
          },
          "ternary": {
           "aaxis": {
            "gridcolor": "white",
            "linecolor": "white",
            "ticks": ""
           },
           "baxis": {
            "gridcolor": "white",
            "linecolor": "white",
            "ticks": ""
           },
           "bgcolor": "#E5ECF6",
           "caxis": {
            "gridcolor": "white",
            "linecolor": "white",
            "ticks": ""
           }
          },
          "title": {
           "x": 0.05
          },
          "xaxis": {
           "automargin": true,
           "gridcolor": "white",
           "linecolor": "white",
           "ticks": "",
           "zerolinecolor": "white",
           "zerolinewidth": 2
          },
          "yaxis": {
           "automargin": true,
           "gridcolor": "white",
           "linecolor": "white",
           "ticks": "",
           "zerolinecolor": "white",
           "zerolinewidth": 2
          }
         }
        }
       }
      },
      "text/html": [
       "<div>\n",
       "        \n",
       "        \n",
       "            <div id=\"3f8f8a28-ad4e-4122-8bc7-f12e98f6a713\" class=\"plotly-graph-div\" style=\"height:525px; width:100%;\"></div>\n",
       "            <script type=\"text/javascript\">\n",
       "                require([\"plotly\"], function(Plotly) {\n",
       "                    window.PLOTLYENV=window.PLOTLYENV || {};\n",
       "                    \n",
       "                if (document.getElementById(\"3f8f8a28-ad4e-4122-8bc7-f12e98f6a713\")) {\n",
       "                    Plotly.newPlot(\n",
       "                        '3f8f8a28-ad4e-4122-8bc7-f12e98f6a713',\n",
       "                        [{\"color\": \"lightpink\", \"opacity\": 1, \"type\": \"mesh3d\", \"x\": [0.0, 0.0, 0.0, 0.0, 0.0, 0.0, 0.0, 0.0, 0.0, 0.0, 0.0, 1.0, 1.0, 1.0, 1.0, 1.0, 1.0, 1.0, 1.0, 1.0, 1.0, 1.0, 2.0, 2.0, 2.0, 2.0, 2.0, 2.0, 2.0, 2.0, 2.0, 2.0, 2.0, 3.0, 3.0, 3.0, 3.0, 3.0, 3.0, 3.0, 3.0, 3.0, 3.0, 3.0, 4.0, 4.0, 4.0, 4.0, 4.0, 4.0, 4.0, 4.0, 4.0, 4.0, 4.0, 5.0, 5.0, 5.0, 5.0, 5.0, 5.0, 5.0, 5.0, 5.0, 5.0, 5.0, 6.0, 6.0, 6.0, 6.0, 6.0, 6.0, 6.0, 6.0, 6.0, 6.0, 6.0, 7.0, 7.0, 7.0, 7.0, 7.0, 7.0, 7.0, 7.0, 7.0, 7.0, 7.0, 8.0, 8.0, 8.0, 8.0, 8.0, 8.0, 8.0, 8.0, 8.0, 8.0, 8.0, 9.0, 9.0, 9.0, 9.0, 9.0, 9.0, 9.0, 9.0, 9.0, 9.0, 9.0, 10.0, 10.0, 10.0, 10.0, 10.0, 10.0, 10.0, 10.0, 10.0, 10.0, 10.0], \"y\": [0.0, 1.0, 2.0, 3.0, 4.0, 5.0, 6.0, 7.0, 8.0, 9.0, 10.0, 0.0, 1.0, 2.0, 3.0, 4.0, 5.0, 6.0, 7.0, 8.0, 9.0, 10.0, 0.0, 1.0, 2.0, 3.0, 4.0, 5.0, 6.0, 7.0, 8.0, 9.0, 10.0, 0.0, 1.0, 2.0, 3.0, 4.0, 5.0, 6.0, 7.0, 8.0, 9.0, 10.0, 0.0, 1.0, 2.0, 3.0, 4.0, 5.0, 6.0, 7.0, 8.0, 9.0, 10.0, 0.0, 1.0, 2.0, 3.0, 4.0, 5.0, 6.0, 7.0, 8.0, 9.0, 10.0, 0.0, 1.0, 2.0, 3.0, 4.0, 5.0, 6.0, 7.0, 8.0, 9.0, 10.0, 0.0, 1.0, 2.0, 3.0, 4.0, 5.0, 6.0, 7.0, 8.0, 9.0, 10.0, 0.0, 1.0, 2.0, 3.0, 4.0, 5.0, 6.0, 7.0, 8.0, 9.0, 10.0, 0.0, 1.0, 2.0, 3.0, 4.0, 5.0, 6.0, 7.0, 8.0, 9.0, 10.0, 0.0, 1.0, 2.0, 3.0, 4.0, 5.0, 6.0, 7.0, 8.0, 9.0, 10.0], \"z\": [0.0, 0.0, 0.0, 0.0, 0.0, 0.0, 0.0, 0.0, 0.0, 0.0, 0.0, 0.0, 0.0, 0.0, 0.0, 0.0, 0.0, 0.0, 0.0, 0.0, 0.0, 0.0, 0.0, 0.0, 0.0, 0.0, 0.0, 0.0, 0.0, 0.0, 0.0, 0.0, 0.0, 0.0, 0.0, 0.0, 0.0, 0.0, 0.0, 0.0, 0.0, 0.0, 0.0, 0.0, 0.0, 0.0, 0.0, 0.0, 0.0, 0.0, 0.0, 0.0, 0.0, 0.0, 0.0, 0.0, 0.0, 0.0, 0.0, 0.0, 0.0, 0.0, 0.0, 0.0, 0.0, 0.0, 0.0, 0.0, 0.0, 0.0, 0.0, 0.0, 0.0, 0.0, 0.0, 0.0, 0.0, 0.0, 0.0, 0.0, 0.0, 0.0, 0.0, 0.0, 0.0, 0.0, 0.0, 0.0, 0.0, 0.0, 0.0, 0.0, 0.0, 0.0, 0.0, 0.0, 0.0, 0.0, 0.0, 0.0, 0.0, 0.0, 0.0, 0.0, 0.0, 0.0, 0.0, 0.0, 0.0, 0.0, 0.0, 0.0, 0.0, 0.0, 0.0, 0.0, 0.0, 0.0, 0.0, 0.0, 0.0]}, {\"color\": \"blue\", \"opacity\": 0.2, \"type\": \"mesh3d\", \"x\": [0.0, 0.0, 0.0, 0.0, 0.0, 0.0, 0.0, 0.0, 0.0, 0.0, 0.0, 1.0, 0.8063074345615718, 0.7324246313982958, 0.7282463541574316, 0.7331432650967492, 0.7354910562323982, 0.7331432650967492, 0.7282463541574316, 0.7324246313982957, 0.8063074345615717, 1.0, 2.0, 1.8398162418819188, 1.6898759819426181, 1.6216543327135504, 1.60318973772365, 1.600215522252702, 1.60318973772365, 1.6216543327135502, 1.6898759819426186, 1.8398162418819186, 2.0, 3.0, 2.8899722917798867, 2.767584953145384, 2.6770313943294095, 2.633454745808191, 2.621847111323692, 2.633454745808191, 2.677031394329409, 2.7675849531453838, 2.889972291779887, 3.0, 4.0, 3.943879055053949, 3.8791326112288966, 3.822583269907391, 3.7881488955975993, 3.777259647320074, 3.7881488955975993, 3.822583269907391, 3.879132611228897, 3.943879055053949, 4.0, 5.0, 5.0, 5.0, 5.0, 5.0, 5.0, 5.0, 4.999999999999999, 5.0, 5.0, 5.0, 6.0, 6.056120944946051, 6.120867388771103, 6.1774167300926095, 6.211851104402401, 6.222740352679926, 6.211851104402401, 6.1774167300926095, 6.120867388771103, 6.056120944946051, 6.0, 7.0, 7.110027708220113, 7.232415046854616, 7.3229686056705905, 7.366545254191808, 7.378152888676309, 7.366545254191808, 7.3229686056705905, 7.232415046854616, 7.110027708220113, 7.0, 8.0, 8.160183758118082, 8.310124018057381, 8.37834566728645, 8.39681026227635, 8.399784477747298, 8.39681026227635, 8.37834566728645, 8.310124018057381, 8.160183758118082, 8.0, 9.0, 9.193692565438429, 9.267575368601705, 9.27175364584257, 9.266856734903252, 9.264508943767602, 9.266856734903252, 9.27175364584257, 9.267575368601705, 9.193692565438429, 9.0, 10.0, 10.0, 10.0, 10.0, 10.0, 10.0, 10.0, 10.0, 10.0, 10.0, 10.0], \"y\": [0.0, 1.0, 2.0, 3.0, 4.0, 5.0, 6.0, 7.0, 8.0, 9.0, 10.0, 0.0, 0.806307434561572, 1.8398162418819184, 2.8899722917798876, 3.9438790550539484, 5.000000000000001, 6.056120944946051, 7.110027708220113, 8.16018375811808, 9.193692565438429, 10.0, 0.0, 0.7324246313982956, 1.6898759819426186, 2.7675849531453838, 3.8791326112288975, 5.0, 6.120867388771103, 7.232415046854616, 8.310124018057381, 9.267575368601705, 10.0, 0.0, 0.7282463541574314, 1.6216543327135504, 2.677031394329409, 3.822583269907391, 5.0, 6.177416730092609, 7.322968605670591, 8.37834566728645, 9.27175364584257, 10.0, 0.0, 0.7331432650967492, 1.60318973772365, 2.633454745808191, 3.7881488955975993, 5.0, 6.211851104402402, 7.366545254191808, 8.39681026227635, 9.266856734903252, 10.0, 0.0, 0.7354910562323983, 1.600215522252702, 2.621847111323692, 3.777259647320074, 5.0, 6.222740352679926, 7.378152888676309, 8.399784477747298, 9.264508943767602, 10.0, 0.0, 0.7331432650967492, 1.60318973772365, 2.633454745808191, 3.7881488955975993, 5.0, 6.211851104402402, 7.366545254191808, 8.39681026227635, 9.266856734903252, 10.0, 0.0, 0.7282463541574313, 1.6216543327135502, 2.677031394329409, 3.822583269907391, 5.0, 6.177416730092609, 7.322968605670591, 8.37834566728645, 9.27175364584257, 10.0, 0.0, 0.7324246313982956, 1.6898759819426183, 2.7675849531453838, 3.8791326112288975, 4.999999999999999, 6.120867388771104, 7.232415046854616, 8.310124018057381, 9.267575368601705, 10.0, 0.0, 0.8063074345615715, 1.8398162418819184, 2.889972291779887, 3.9438790550539484, 5.0, 6.056120944946051, 7.110027708220113, 8.160183758118082, 9.193692565438429, 10.0, 0.0, 1.0, 2.0, 3.0, 4.0, 5.0, 6.0, 7.0, 8.0, 9.0, 10.0], \"z\": [0.0, 0.0, 0.0, 0.0, 0.0, 0.0, 0.0, 0.0, 0.0, 0.0, 0.0, 0.0, 0.7520903523485307, 1.0313940935494852, 1.178761782911768, 1.2605749724845494, 1.2869213444398497, 1.2605749724845494, 1.1787617829117678, 1.0313940935494854, 0.7520903523485304, 0.0, 0.0, 1.0313940935494854, 1.7228804912419136, 2.108959749245439, 2.3055204507318767, 2.3664705952870904, 2.3055204507318767, 2.108959749245439, 1.7228804912419131, 1.0313940935494854, 0.0, 0.0, 1.178761782911768, 2.1089597492454395, 2.7336908138490865, 3.0730706114684985, 3.178779542455676, 3.0730706114684985, 2.733690813849086, 2.108959749245439, 1.1787617829117676, 0.0, 0.0, 1.2605749724845496, 2.3055204507318767, 3.0730706114684985, 3.52476528869426, 3.6706223283963597, 3.5247652886942595, 3.073070611468499, 2.3055204507318763, 1.26057497248455, 0.0, 0.0, 1.2869213444398497, 2.36647059528709, 3.1787795424556764, 3.6706223283963597, 3.832215944645207, 3.6706223283963593, 3.178779542455676, 2.366470595287091, 1.2869213444398493, 0.0, 0.0, 1.2605749724845494, 2.3055204507318767, 3.0730706114684985, 3.5247652886942595, 3.6706223283963593, 3.5247652886942595, 3.073070611468499, 2.3055204507318763, 1.26057497248455, 0.0, 0.0, 1.1787617829117678, 2.108959749245439, 2.7336908138490865, 3.073070611468499, 3.178779542455676, 3.073070611468499, 2.733690813849086, 2.108959749245439, 1.1787617829117676, 0.0, 0.0, 1.0313940935494852, 1.7228804912419133, 2.108959749245439, 2.3055204507318763, 2.366470595287091, 2.3055204507318763, 2.1089597492454395, 1.722880491241913, 1.0313940935494856, 0.0, 0.0, 0.752090352348531, 1.0313940935494854, 1.1787617829117678, 1.2605749724845499, 1.2869213444398493, 1.26057497248455, 1.1787617829117676, 1.0313940935494856, 0.7520903523485314, 0.0, 0.0, 0.0, 0.0, 0.0, 0.0, 0.0, 0.0, 0.0, 0.0, 0.0, 0.0]}],\n",
       "                        {\"template\": {\"data\": {\"bar\": [{\"error_x\": {\"color\": \"#2a3f5f\"}, \"error_y\": {\"color\": \"#2a3f5f\"}, \"marker\": {\"line\": {\"color\": \"#E5ECF6\", \"width\": 0.5}}, \"type\": \"bar\"}], \"barpolar\": [{\"marker\": {\"line\": {\"color\": \"#E5ECF6\", \"width\": 0.5}}, \"type\": \"barpolar\"}], \"carpet\": [{\"aaxis\": {\"endlinecolor\": \"#2a3f5f\", \"gridcolor\": \"white\", \"linecolor\": \"white\", \"minorgridcolor\": \"white\", \"startlinecolor\": \"#2a3f5f\"}, \"baxis\": {\"endlinecolor\": \"#2a3f5f\", \"gridcolor\": \"white\", \"linecolor\": \"white\", \"minorgridcolor\": \"white\", \"startlinecolor\": \"#2a3f5f\"}, \"type\": \"carpet\"}], \"choropleth\": [{\"colorbar\": {\"outlinewidth\": 0, \"ticks\": \"\"}, \"type\": \"choropleth\"}], \"contour\": [{\"colorbar\": {\"outlinewidth\": 0, \"ticks\": \"\"}, \"colorscale\": [[0.0, \"#0d0887\"], [0.1111111111111111, \"#46039f\"], [0.2222222222222222, \"#7201a8\"], [0.3333333333333333, \"#9c179e\"], [0.4444444444444444, \"#bd3786\"], [0.5555555555555556, \"#d8576b\"], [0.6666666666666666, \"#ed7953\"], [0.7777777777777778, \"#fb9f3a\"], [0.8888888888888888, \"#fdca26\"], [1.0, \"#f0f921\"]], \"type\": \"contour\"}], \"contourcarpet\": [{\"colorbar\": {\"outlinewidth\": 0, \"ticks\": \"\"}, \"type\": \"contourcarpet\"}], \"heatmap\": [{\"colorbar\": {\"outlinewidth\": 0, \"ticks\": \"\"}, \"colorscale\": [[0.0, \"#0d0887\"], [0.1111111111111111, \"#46039f\"], [0.2222222222222222, \"#7201a8\"], [0.3333333333333333, \"#9c179e\"], [0.4444444444444444, \"#bd3786\"], [0.5555555555555556, \"#d8576b\"], [0.6666666666666666, \"#ed7953\"], [0.7777777777777778, \"#fb9f3a\"], [0.8888888888888888, \"#fdca26\"], [1.0, \"#f0f921\"]], \"type\": \"heatmap\"}], \"heatmapgl\": [{\"colorbar\": {\"outlinewidth\": 0, \"ticks\": \"\"}, \"colorscale\": [[0.0, \"#0d0887\"], [0.1111111111111111, \"#46039f\"], [0.2222222222222222, \"#7201a8\"], [0.3333333333333333, \"#9c179e\"], [0.4444444444444444, \"#bd3786\"], [0.5555555555555556, \"#d8576b\"], [0.6666666666666666, \"#ed7953\"], [0.7777777777777778, \"#fb9f3a\"], [0.8888888888888888, \"#fdca26\"], [1.0, \"#f0f921\"]], \"type\": \"heatmapgl\"}], \"histogram\": [{\"marker\": {\"colorbar\": {\"outlinewidth\": 0, \"ticks\": \"\"}}, \"type\": \"histogram\"}], \"histogram2d\": [{\"colorbar\": {\"outlinewidth\": 0, \"ticks\": \"\"}, \"colorscale\": [[0.0, \"#0d0887\"], [0.1111111111111111, \"#46039f\"], [0.2222222222222222, \"#7201a8\"], [0.3333333333333333, \"#9c179e\"], [0.4444444444444444, \"#bd3786\"], [0.5555555555555556, \"#d8576b\"], [0.6666666666666666, \"#ed7953\"], [0.7777777777777778, \"#fb9f3a\"], [0.8888888888888888, \"#fdca26\"], [1.0, \"#f0f921\"]], \"type\": \"histogram2d\"}], \"histogram2dcontour\": [{\"colorbar\": {\"outlinewidth\": 0, \"ticks\": \"\"}, \"colorscale\": [[0.0, \"#0d0887\"], [0.1111111111111111, \"#46039f\"], [0.2222222222222222, \"#7201a8\"], [0.3333333333333333, \"#9c179e\"], [0.4444444444444444, \"#bd3786\"], [0.5555555555555556, \"#d8576b\"], [0.6666666666666666, \"#ed7953\"], [0.7777777777777778, \"#fb9f3a\"], [0.8888888888888888, \"#fdca26\"], [1.0, \"#f0f921\"]], \"type\": \"histogram2dcontour\"}], \"mesh3d\": [{\"colorbar\": {\"outlinewidth\": 0, \"ticks\": \"\"}, \"type\": \"mesh3d\"}], \"parcoords\": [{\"line\": {\"colorbar\": {\"outlinewidth\": 0, \"ticks\": \"\"}}, \"type\": \"parcoords\"}], \"scatter\": [{\"marker\": {\"colorbar\": {\"outlinewidth\": 0, \"ticks\": \"\"}}, \"type\": \"scatter\"}], \"scatter3d\": [{\"line\": {\"colorbar\": {\"outlinewidth\": 0, \"ticks\": \"\"}}, \"marker\": {\"colorbar\": {\"outlinewidth\": 0, \"ticks\": \"\"}}, \"type\": \"scatter3d\"}], \"scattercarpet\": [{\"marker\": {\"colorbar\": {\"outlinewidth\": 0, \"ticks\": \"\"}}, \"type\": \"scattercarpet\"}], \"scattergeo\": [{\"marker\": {\"colorbar\": {\"outlinewidth\": 0, \"ticks\": \"\"}}, \"type\": \"scattergeo\"}], \"scattergl\": [{\"marker\": {\"colorbar\": {\"outlinewidth\": 0, \"ticks\": \"\"}}, \"type\": \"scattergl\"}], \"scattermapbox\": [{\"marker\": {\"colorbar\": {\"outlinewidth\": 0, \"ticks\": \"\"}}, \"type\": \"scattermapbox\"}], \"scatterpolar\": [{\"marker\": {\"colorbar\": {\"outlinewidth\": 0, \"ticks\": \"\"}}, \"type\": \"scatterpolar\"}], \"scatterpolargl\": [{\"marker\": {\"colorbar\": {\"outlinewidth\": 0, \"ticks\": \"\"}}, \"type\": \"scatterpolargl\"}], \"scatterternary\": [{\"marker\": {\"colorbar\": {\"outlinewidth\": 0, \"ticks\": \"\"}}, \"type\": \"scatterternary\"}], \"surface\": [{\"colorbar\": {\"outlinewidth\": 0, \"ticks\": \"\"}, \"colorscale\": [[0.0, \"#0d0887\"], [0.1111111111111111, \"#46039f\"], [0.2222222222222222, \"#7201a8\"], [0.3333333333333333, \"#9c179e\"], [0.4444444444444444, \"#bd3786\"], [0.5555555555555556, \"#d8576b\"], [0.6666666666666666, \"#ed7953\"], [0.7777777777777778, \"#fb9f3a\"], [0.8888888888888888, \"#fdca26\"], [1.0, \"#f0f921\"]], \"type\": \"surface\"}], \"table\": [{\"cells\": {\"fill\": {\"color\": \"#EBF0F8\"}, \"line\": {\"color\": \"white\"}}, \"header\": {\"fill\": {\"color\": \"#C8D4E3\"}, \"line\": {\"color\": \"white\"}}, \"type\": \"table\"}]}, \"layout\": {\"annotationdefaults\": {\"arrowcolor\": \"#2a3f5f\", \"arrowhead\": 0, \"arrowwidth\": 1}, \"colorscale\": {\"diverging\": [[0, \"#8e0152\"], [0.1, \"#c51b7d\"], [0.2, \"#de77ae\"], [0.3, \"#f1b6da\"], [0.4, \"#fde0ef\"], [0.5, \"#f7f7f7\"], [0.6, \"#e6f5d0\"], [0.7, \"#b8e186\"], [0.8, \"#7fbc41\"], [0.9, \"#4d9221\"], [1, \"#276419\"]], \"sequential\": [[0.0, \"#0d0887\"], [0.1111111111111111, \"#46039f\"], [0.2222222222222222, \"#7201a8\"], [0.3333333333333333, \"#9c179e\"], [0.4444444444444444, \"#bd3786\"], [0.5555555555555556, \"#d8576b\"], [0.6666666666666666, \"#ed7953\"], [0.7777777777777778, \"#fb9f3a\"], [0.8888888888888888, \"#fdca26\"], [1.0, \"#f0f921\"]], \"sequentialminus\": [[0.0, \"#0d0887\"], [0.1111111111111111, \"#46039f\"], [0.2222222222222222, \"#7201a8\"], [0.3333333333333333, \"#9c179e\"], [0.4444444444444444, \"#bd3786\"], [0.5555555555555556, \"#d8576b\"], [0.6666666666666666, \"#ed7953\"], [0.7777777777777778, \"#fb9f3a\"], [0.8888888888888888, \"#fdca26\"], [1.0, \"#f0f921\"]]}, \"colorway\": [\"#636efa\", \"#EF553B\", \"#00cc96\", \"#ab63fa\", \"#FFA15A\", \"#19d3f3\", \"#FF6692\", \"#B6E880\", \"#FF97FF\", \"#FECB52\"], \"font\": {\"color\": \"#2a3f5f\"}, \"geo\": {\"bgcolor\": \"white\", \"lakecolor\": \"white\", \"landcolor\": \"#E5ECF6\", \"showlakes\": true, \"showland\": true, \"subunitcolor\": \"white\"}, \"hoverlabel\": {\"align\": \"left\"}, \"hovermode\": \"closest\", \"mapbox\": {\"style\": \"light\"}, \"paper_bgcolor\": \"white\", \"plot_bgcolor\": \"#E5ECF6\", \"polar\": {\"angularaxis\": {\"gridcolor\": \"white\", \"linecolor\": \"white\", \"ticks\": \"\"}, \"bgcolor\": \"#E5ECF6\", \"radialaxis\": {\"gridcolor\": \"white\", \"linecolor\": \"white\", \"ticks\": \"\"}}, \"scene\": {\"xaxis\": {\"backgroundcolor\": \"#E5ECF6\", \"gridcolor\": \"white\", \"gridwidth\": 2, \"linecolor\": \"white\", \"showbackground\": true, \"ticks\": \"\", \"zerolinecolor\": \"white\"}, \"yaxis\": {\"backgroundcolor\": \"#E5ECF6\", \"gridcolor\": \"white\", \"gridwidth\": 2, \"linecolor\": \"white\", \"showbackground\": true, \"ticks\": \"\", \"zerolinecolor\": \"white\"}, \"zaxis\": {\"backgroundcolor\": \"#E5ECF6\", \"gridcolor\": \"white\", \"gridwidth\": 2, \"linecolor\": \"white\", \"showbackground\": true, \"ticks\": \"\", \"zerolinecolor\": \"white\"}}, \"shapedefaults\": {\"line\": {\"color\": \"#2a3f5f\"}}, \"ternary\": {\"aaxis\": {\"gridcolor\": \"white\", \"linecolor\": \"white\", \"ticks\": \"\"}, \"baxis\": {\"gridcolor\": \"white\", \"linecolor\": \"white\", \"ticks\": \"\"}, \"bgcolor\": \"#E5ECF6\", \"caxis\": {\"gridcolor\": \"white\", \"linecolor\": \"white\", \"ticks\": \"\"}}, \"title\": {\"x\": 0.05}, \"xaxis\": {\"automargin\": true, \"gridcolor\": \"white\", \"linecolor\": \"white\", \"ticks\": \"\", \"zerolinecolor\": \"white\", \"zerolinewidth\": 2}, \"yaxis\": {\"automargin\": true, \"gridcolor\": \"white\", \"linecolor\": \"white\", \"ticks\": \"\", \"zerolinecolor\": \"white\", \"zerolinewidth\": 2}}}},\n",
       "                        {\"responsive\": true}\n",
       "                    ).then(function(){\n",
       "                            \n",
       "var gd = document.getElementById('3f8f8a28-ad4e-4122-8bc7-f12e98f6a713');\n",
       "var x = new MutationObserver(function (mutations, observer) {{\n",
       "        var display = window.getComputedStyle(gd).display;\n",
       "        if (!display || display === 'none') {{\n",
       "            console.log([gd, 'removed!']);\n",
       "            Plotly.purge(gd);\n",
       "            observer.disconnect();\n",
       "        }}\n",
       "}});\n",
       "\n",
       "// Listen for the removal of the full notebook cells\n",
       "var notebookContainer = gd.closest('#notebook-container');\n",
       "if (notebookContainer) {{\n",
       "    x.observe(notebookContainer, {childList: true});\n",
       "}}\n",
       "\n",
       "// Listen for the clearing of the current output cell\n",
       "var outputEl = gd.closest('.output');\n",
       "if (outputEl) {{\n",
       "    x.observe(outputEl, {childList: true});\n",
       "}}\n",
       "\n",
       "                        })\n",
       "                };\n",
       "                });\n",
       "            </script>\n",
       "        </div>"
      ]
     },
     "metadata": {},
     "output_type": "display_data"
    }
   ],
   "source": [
    "import plotly.graph_objects as go\n",
    "\n",
    "# Here we extract the mesh coordinates from the final state NumPy array\n",
    "xFS, yFS, zFS = xyzFS.T\n",
    "\n",
    "# Initial state data is still in list format, so we first convert it to a NumPy array\n",
    "xIS, yIS, zIS = np.array(xyzIS).T\n",
    "\n",
    "fig = go.Figure(data=[  go.Mesh3d(x=xIS, y=yIS, z=zIS, color='blue', opacity=0.5),\n",
    "                        go.Mesh3d(x=xFS, y=yFS, z=zFS, colorscale='Viridis', opacity=0.5),\n",
    "                        go.Scatter3d(mode = 'markers', x=xFS, y=yFS, z=zFS,\n",
    "                            marker=dict(size=3, color='red'), showlegend=False),\n",
    "                        go.Scatter3d(mode = 'markers', x=xIS, y=yIS, z=zIS,\n",
    "                            marker=dict(size=3, color='blue'), showlegend=False)\n",
    "                     ]\n",
    "               )\n",
    "fig.show()"
   ]
  },
  {
   "cell_type": "code",
   "execution_count": 206,
   "metadata": {},
   "outputs": [
    {
     "data": {
      "application/vnd.plotly.v1+json": {
       "config": {
        "plotlyServerURL": "https://plot.ly"
       },
       "data": [
        {
         "marker": {
          "color": [
           0,
           0,
           0,
           0,
           0,
           0,
           0,
           0,
           0,
           0,
           0,
           0,
           0.9154006391793779,
           1.3235307062881696,
           1.5653861219065637,
           1.70511157638914,
           1.7509598870132046,
           1.7051115763891398,
           1.5653861219065637,
           1.3235307062881696,
           0.9154006391793778,
           0,
           0,
           1.3235307062881696,
           2.243667796590758,
           2.8030308443918055,
           3.109235990127003,
           3.2077427074232565,
           3.109235990127003,
           2.8030308443918055,
           2.2436677965907577,
           1.3235307062881698,
           0,
           0,
           1.5653861219065637,
           2.8030308443918055,
           3.669204790923058,
           4.166803208105161,
           4.327428655451995,
           4.166803208105161,
           3.669204790923058,
           2.8030308443918055,
           1.5653861219065632,
           0,
           0,
           1.70511157638914,
           3.109235990127003,
           4.166803208105161,
           4.820413372085942,
           5.039193575877254,
           4.820413372085942,
           4.166803208105161,
           3.109235990127003,
           1.7051115763891398,
           0,
           0,
           1.7509598870132046,
           3.2077427074232565,
           4.327428655451995,
           5.039193575877254,
           5.282424035512499,
           5.039193575877254,
           4.327428655451995,
           3.2077427074232565,
           1.7509598870132048,
           0,
           0,
           1.7051115763891398,
           3.109235990127003,
           4.166803208105161,
           4.820413372085942,
           5.039193575877254,
           4.820413372085942,
           4.166803208105161,
           3.109235990127003,
           1.70511157638914,
           0,
           0,
           1.5653861219065635,
           2.803030844391805,
           3.669204790923058,
           4.166803208105161,
           4.327428655451995,
           4.166803208105161,
           3.669204790923058,
           2.803030844391805,
           1.5653861219065635,
           0,
           0,
           1.3235307062881698,
           2.243667796590758,
           2.803030844391805,
           3.109235990127003,
           3.2077427074232565,
           3.109235990127003,
           2.803030844391805,
           2.243667796590758,
           1.3235307062881694,
           0,
           0,
           0.9154006391793778,
           1.3235307062881694,
           1.5653861219065632,
           1.7051115763891398,
           1.7509598870132048,
           1.70511157638914,
           1.5653861219065635,
           1.3235307062881694,
           0.9154006391793776,
           0,
           0,
           0,
           0,
           0,
           0,
           0,
           0,
           0,
           0,
           0,
           0
          ],
          "colorscale": [
           [
            0,
            "#440154"
           ],
           [
            0.1111111111111111,
            "#482878"
           ],
           [
            0.2222222222222222,
            "#3e4989"
           ],
           [
            0.3333333333333333,
            "#31688e"
           ],
           [
            0.4444444444444444,
            "#26828e"
           ],
           [
            0.5555555555555556,
            "#1f9e89"
           ],
           [
            0.6666666666666666,
            "#35b779"
           ],
           [
            0.7777777777777778,
            "#6ece58"
           ],
           [
            0.8888888888888888,
            "#b5de2b"
           ],
           [
            1,
            "#fde725"
           ]
          ],
          "size": 4
         },
         "type": "scatter3d",
         "x": [
          0,
          0,
          0,
          0,
          0,
          0,
          0,
          0,
          0,
          0,
          0,
          1,
          0.8063074345615718,
          0.7324246313982958,
          0.7282463541574316,
          0.7331432650967492,
          0.7354910562323982,
          0.7331432650967492,
          0.7282463541574316,
          0.7324246313982957,
          0.8063074345615717,
          1,
          2,
          1.8398162418819188,
          1.6898759819426181,
          1.6216543327135504,
          1.60318973772365,
          1.600215522252702,
          1.60318973772365,
          1.6216543327135502,
          1.6898759819426186,
          1.8398162418819186,
          2,
          3,
          2.8899722917798867,
          2.767584953145384,
          2.6770313943294095,
          2.633454745808191,
          2.621847111323692,
          2.633454745808191,
          2.677031394329409,
          2.7675849531453838,
          2.889972291779887,
          3,
          4,
          3.943879055053949,
          3.8791326112288966,
          3.822583269907391,
          3.7881488955975993,
          3.777259647320074,
          3.7881488955975993,
          3.822583269907391,
          3.879132611228897,
          3.943879055053949,
          4,
          5,
          5,
          5,
          5,
          5,
          5,
          5,
          4.999999999999999,
          5,
          5,
          5,
          6,
          6.056120944946051,
          6.120867388771103,
          6.1774167300926095,
          6.211851104402401,
          6.222740352679926,
          6.211851104402401,
          6.1774167300926095,
          6.120867388771103,
          6.056120944946051,
          6,
          7,
          7.110027708220113,
          7.232415046854616,
          7.3229686056705905,
          7.366545254191808,
          7.378152888676309,
          7.366545254191808,
          7.3229686056705905,
          7.232415046854616,
          7.110027708220113,
          7,
          8,
          8.160183758118082,
          8.310124018057381,
          8.37834566728645,
          8.39681026227635,
          8.399784477747298,
          8.39681026227635,
          8.37834566728645,
          8.310124018057381,
          8.160183758118082,
          8,
          9,
          9.193692565438429,
          9.267575368601705,
          9.27175364584257,
          9.266856734903252,
          9.264508943767602,
          9.266856734903252,
          9.27175364584257,
          9.267575368601705,
          9.193692565438429,
          9,
          10,
          10,
          10,
          10,
          10,
          10,
          10,
          10,
          10,
          10,
          10
         ],
         "y": [
          0,
          1,
          2,
          3,
          4,
          5,
          6,
          7,
          8,
          9,
          10,
          0,
          0.806307434561572,
          1.8398162418819184,
          2.8899722917798876,
          3.9438790550539484,
          5.000000000000001,
          6.056120944946051,
          7.110027708220113,
          8.16018375811808,
          9.193692565438429,
          10,
          0,
          0.7324246313982956,
          1.6898759819426186,
          2.7675849531453838,
          3.8791326112288975,
          5,
          6.120867388771103,
          7.232415046854616,
          8.310124018057381,
          9.267575368601705,
          10,
          0,
          0.7282463541574314,
          1.6216543327135504,
          2.677031394329409,
          3.822583269907391,
          5,
          6.177416730092609,
          7.322968605670591,
          8.37834566728645,
          9.27175364584257,
          10,
          0,
          0.7331432650967492,
          1.60318973772365,
          2.633454745808191,
          3.7881488955975993,
          5,
          6.211851104402402,
          7.366545254191808,
          8.39681026227635,
          9.266856734903252,
          10,
          0,
          0.7354910562323983,
          1.600215522252702,
          2.621847111323692,
          3.777259647320074,
          5,
          6.222740352679926,
          7.378152888676309,
          8.399784477747298,
          9.264508943767602,
          10,
          0,
          0.7331432650967492,
          1.60318973772365,
          2.633454745808191,
          3.7881488955975993,
          5,
          6.211851104402402,
          7.366545254191808,
          8.39681026227635,
          9.266856734903252,
          10,
          0,
          0.7282463541574313,
          1.6216543327135502,
          2.677031394329409,
          3.822583269907391,
          5,
          6.177416730092609,
          7.322968605670591,
          8.37834566728645,
          9.27175364584257,
          10,
          0,
          0.7324246313982956,
          1.6898759819426183,
          2.7675849531453838,
          3.8791326112288975,
          4.999999999999999,
          6.120867388771104,
          7.232415046854616,
          8.310124018057381,
          9.267575368601705,
          10,
          0,
          0.8063074345615715,
          1.8398162418819184,
          2.889972291779887,
          3.9438790550539484,
          5,
          6.056120944946051,
          7.110027708220113,
          8.160183758118082,
          9.193692565438429,
          10,
          0,
          1,
          2,
          3,
          4,
          5,
          6,
          7,
          8,
          9,
          10
         ],
         "z": [
          0,
          0,
          0,
          0,
          0,
          0,
          0,
          0,
          0,
          0,
          0,
          0,
          0.7520903523485307,
          1.0313940935494852,
          1.178761782911768,
          1.2605749724845494,
          1.2869213444398497,
          1.2605749724845494,
          1.1787617829117678,
          1.0313940935494854,
          0.7520903523485304,
          0,
          0,
          1.0313940935494854,
          1.7228804912419136,
          2.108959749245439,
          2.3055204507318767,
          2.3664705952870904,
          2.3055204507318767,
          2.108959749245439,
          1.7228804912419131,
          1.0313940935494854,
          0,
          0,
          1.178761782911768,
          2.1089597492454395,
          2.7336908138490865,
          3.0730706114684985,
          3.178779542455676,
          3.0730706114684985,
          2.733690813849086,
          2.108959749245439,
          1.1787617829117676,
          0,
          0,
          1.2605749724845496,
          2.3055204507318767,
          3.0730706114684985,
          3.52476528869426,
          3.6706223283963597,
          3.5247652886942595,
          3.073070611468499,
          2.3055204507318763,
          1.26057497248455,
          0,
          0,
          1.2869213444398497,
          2.36647059528709,
          3.1787795424556764,
          3.6706223283963597,
          3.832215944645207,
          3.6706223283963593,
          3.178779542455676,
          2.366470595287091,
          1.2869213444398493,
          0,
          0,
          1.2605749724845494,
          2.3055204507318767,
          3.0730706114684985,
          3.5247652886942595,
          3.6706223283963593,
          3.5247652886942595,
          3.073070611468499,
          2.3055204507318763,
          1.26057497248455,
          0,
          0,
          1.1787617829117678,
          2.108959749245439,
          2.7336908138490865,
          3.073070611468499,
          3.178779542455676,
          3.073070611468499,
          2.733690813849086,
          2.108959749245439,
          1.1787617829117676,
          0,
          0,
          1.0313940935494852,
          1.7228804912419133,
          2.108959749245439,
          2.3055204507318763,
          2.366470595287091,
          2.3055204507318763,
          2.1089597492454395,
          1.722880491241913,
          1.0313940935494856,
          0,
          0,
          0.752090352348531,
          1.0313940935494854,
          1.1787617829117678,
          1.2605749724845499,
          1.2869213444398493,
          1.26057497248455,
          1.1787617829117676,
          1.0313940935494856,
          0.7520903523485314,
          0,
          0,
          0,
          0,
          0,
          0,
          0,
          0,
          0,
          0,
          0,
          0
         ]
        }
       ],
       "layout": {
        "template": {
         "data": {
          "bar": [
           {
            "error_x": {
             "color": "#2a3f5f"
            },
            "error_y": {
             "color": "#2a3f5f"
            },
            "marker": {
             "line": {
              "color": "#E5ECF6",
              "width": 0.5
             }
            },
            "type": "bar"
           }
          ],
          "barpolar": [
           {
            "marker": {
             "line": {
              "color": "#E5ECF6",
              "width": 0.5
             }
            },
            "type": "barpolar"
           }
          ],
          "carpet": [
           {
            "aaxis": {
             "endlinecolor": "#2a3f5f",
             "gridcolor": "white",
             "linecolor": "white",
             "minorgridcolor": "white",
             "startlinecolor": "#2a3f5f"
            },
            "baxis": {
             "endlinecolor": "#2a3f5f",
             "gridcolor": "white",
             "linecolor": "white",
             "minorgridcolor": "white",
             "startlinecolor": "#2a3f5f"
            },
            "type": "carpet"
           }
          ],
          "choropleth": [
           {
            "colorbar": {
             "outlinewidth": 0,
             "ticks": ""
            },
            "type": "choropleth"
           }
          ],
          "contour": [
           {
            "colorbar": {
             "outlinewidth": 0,
             "ticks": ""
            },
            "colorscale": [
             [
              0,
              "#0d0887"
             ],
             [
              0.1111111111111111,
              "#46039f"
             ],
             [
              0.2222222222222222,
              "#7201a8"
             ],
             [
              0.3333333333333333,
              "#9c179e"
             ],
             [
              0.4444444444444444,
              "#bd3786"
             ],
             [
              0.5555555555555556,
              "#d8576b"
             ],
             [
              0.6666666666666666,
              "#ed7953"
             ],
             [
              0.7777777777777778,
              "#fb9f3a"
             ],
             [
              0.8888888888888888,
              "#fdca26"
             ],
             [
              1,
              "#f0f921"
             ]
            ],
            "type": "contour"
           }
          ],
          "contourcarpet": [
           {
            "colorbar": {
             "outlinewidth": 0,
             "ticks": ""
            },
            "type": "contourcarpet"
           }
          ],
          "heatmap": [
           {
            "colorbar": {
             "outlinewidth": 0,
             "ticks": ""
            },
            "colorscale": [
             [
              0,
              "#0d0887"
             ],
             [
              0.1111111111111111,
              "#46039f"
             ],
             [
              0.2222222222222222,
              "#7201a8"
             ],
             [
              0.3333333333333333,
              "#9c179e"
             ],
             [
              0.4444444444444444,
              "#bd3786"
             ],
             [
              0.5555555555555556,
              "#d8576b"
             ],
             [
              0.6666666666666666,
              "#ed7953"
             ],
             [
              0.7777777777777778,
              "#fb9f3a"
             ],
             [
              0.8888888888888888,
              "#fdca26"
             ],
             [
              1,
              "#f0f921"
             ]
            ],
            "type": "heatmap"
           }
          ],
          "heatmapgl": [
           {
            "colorbar": {
             "outlinewidth": 0,
             "ticks": ""
            },
            "colorscale": [
             [
              0,
              "#0d0887"
             ],
             [
              0.1111111111111111,
              "#46039f"
             ],
             [
              0.2222222222222222,
              "#7201a8"
             ],
             [
              0.3333333333333333,
              "#9c179e"
             ],
             [
              0.4444444444444444,
              "#bd3786"
             ],
             [
              0.5555555555555556,
              "#d8576b"
             ],
             [
              0.6666666666666666,
              "#ed7953"
             ],
             [
              0.7777777777777778,
              "#fb9f3a"
             ],
             [
              0.8888888888888888,
              "#fdca26"
             ],
             [
              1,
              "#f0f921"
             ]
            ],
            "type": "heatmapgl"
           }
          ],
          "histogram": [
           {
            "marker": {
             "colorbar": {
              "outlinewidth": 0,
              "ticks": ""
             }
            },
            "type": "histogram"
           }
          ],
          "histogram2d": [
           {
            "colorbar": {
             "outlinewidth": 0,
             "ticks": ""
            },
            "colorscale": [
             [
              0,
              "#0d0887"
             ],
             [
              0.1111111111111111,
              "#46039f"
             ],
             [
              0.2222222222222222,
              "#7201a8"
             ],
             [
              0.3333333333333333,
              "#9c179e"
             ],
             [
              0.4444444444444444,
              "#bd3786"
             ],
             [
              0.5555555555555556,
              "#d8576b"
             ],
             [
              0.6666666666666666,
              "#ed7953"
             ],
             [
              0.7777777777777778,
              "#fb9f3a"
             ],
             [
              0.8888888888888888,
              "#fdca26"
             ],
             [
              1,
              "#f0f921"
             ]
            ],
            "type": "histogram2d"
           }
          ],
          "histogram2dcontour": [
           {
            "colorbar": {
             "outlinewidth": 0,
             "ticks": ""
            },
            "colorscale": [
             [
              0,
              "#0d0887"
             ],
             [
              0.1111111111111111,
              "#46039f"
             ],
             [
              0.2222222222222222,
              "#7201a8"
             ],
             [
              0.3333333333333333,
              "#9c179e"
             ],
             [
              0.4444444444444444,
              "#bd3786"
             ],
             [
              0.5555555555555556,
              "#d8576b"
             ],
             [
              0.6666666666666666,
              "#ed7953"
             ],
             [
              0.7777777777777778,
              "#fb9f3a"
             ],
             [
              0.8888888888888888,
              "#fdca26"
             ],
             [
              1,
              "#f0f921"
             ]
            ],
            "type": "histogram2dcontour"
           }
          ],
          "mesh3d": [
           {
            "colorbar": {
             "outlinewidth": 0,
             "ticks": ""
            },
            "type": "mesh3d"
           }
          ],
          "parcoords": [
           {
            "line": {
             "colorbar": {
              "outlinewidth": 0,
              "ticks": ""
             }
            },
            "type": "parcoords"
           }
          ],
          "scatter": [
           {
            "marker": {
             "colorbar": {
              "outlinewidth": 0,
              "ticks": ""
             }
            },
            "type": "scatter"
           }
          ],
          "scatter3d": [
           {
            "line": {
             "colorbar": {
              "outlinewidth": 0,
              "ticks": ""
             }
            },
            "marker": {
             "colorbar": {
              "outlinewidth": 0,
              "ticks": ""
             }
            },
            "type": "scatter3d"
           }
          ],
          "scattercarpet": [
           {
            "marker": {
             "colorbar": {
              "outlinewidth": 0,
              "ticks": ""
             }
            },
            "type": "scattercarpet"
           }
          ],
          "scattergeo": [
           {
            "marker": {
             "colorbar": {
              "outlinewidth": 0,
              "ticks": ""
             }
            },
            "type": "scattergeo"
           }
          ],
          "scattergl": [
           {
            "marker": {
             "colorbar": {
              "outlinewidth": 0,
              "ticks": ""
             }
            },
            "type": "scattergl"
           }
          ],
          "scattermapbox": [
           {
            "marker": {
             "colorbar": {
              "outlinewidth": 0,
              "ticks": ""
             }
            },
            "type": "scattermapbox"
           }
          ],
          "scatterpolar": [
           {
            "marker": {
             "colorbar": {
              "outlinewidth": 0,
              "ticks": ""
             }
            },
            "type": "scatterpolar"
           }
          ],
          "scatterpolargl": [
           {
            "marker": {
             "colorbar": {
              "outlinewidth": 0,
              "ticks": ""
             }
            },
            "type": "scatterpolargl"
           }
          ],
          "scatterternary": [
           {
            "marker": {
             "colorbar": {
              "outlinewidth": 0,
              "ticks": ""
             }
            },
            "type": "scatterternary"
           }
          ],
          "surface": [
           {
            "colorbar": {
             "outlinewidth": 0,
             "ticks": ""
            },
            "colorscale": [
             [
              0,
              "#0d0887"
             ],
             [
              0.1111111111111111,
              "#46039f"
             ],
             [
              0.2222222222222222,
              "#7201a8"
             ],
             [
              0.3333333333333333,
              "#9c179e"
             ],
             [
              0.4444444444444444,
              "#bd3786"
             ],
             [
              0.5555555555555556,
              "#d8576b"
             ],
             [
              0.6666666666666666,
              "#ed7953"
             ],
             [
              0.7777777777777778,
              "#fb9f3a"
             ],
             [
              0.8888888888888888,
              "#fdca26"
             ],
             [
              1,
              "#f0f921"
             ]
            ],
            "type": "surface"
           }
          ],
          "table": [
           {
            "cells": {
             "fill": {
              "color": "#EBF0F8"
             },
             "line": {
              "color": "white"
             }
            },
            "header": {
             "fill": {
              "color": "#C8D4E3"
             },
             "line": {
              "color": "white"
             }
            },
            "type": "table"
           }
          ]
         },
         "layout": {
          "annotationdefaults": {
           "arrowcolor": "#2a3f5f",
           "arrowhead": 0,
           "arrowwidth": 1
          },
          "colorscale": {
           "diverging": [
            [
             0,
             "#8e0152"
            ],
            [
             0.1,
             "#c51b7d"
            ],
            [
             0.2,
             "#de77ae"
            ],
            [
             0.3,
             "#f1b6da"
            ],
            [
             0.4,
             "#fde0ef"
            ],
            [
             0.5,
             "#f7f7f7"
            ],
            [
             0.6,
             "#e6f5d0"
            ],
            [
             0.7,
             "#b8e186"
            ],
            [
             0.8,
             "#7fbc41"
            ],
            [
             0.9,
             "#4d9221"
            ],
            [
             1,
             "#276419"
            ]
           ],
           "sequential": [
            [
             0,
             "#0d0887"
            ],
            [
             0.1111111111111111,
             "#46039f"
            ],
            [
             0.2222222222222222,
             "#7201a8"
            ],
            [
             0.3333333333333333,
             "#9c179e"
            ],
            [
             0.4444444444444444,
             "#bd3786"
            ],
            [
             0.5555555555555556,
             "#d8576b"
            ],
            [
             0.6666666666666666,
             "#ed7953"
            ],
            [
             0.7777777777777778,
             "#fb9f3a"
            ],
            [
             0.8888888888888888,
             "#fdca26"
            ],
            [
             1,
             "#f0f921"
            ]
           ],
           "sequentialminus": [
            [
             0,
             "#0d0887"
            ],
            [
             0.1111111111111111,
             "#46039f"
            ],
            [
             0.2222222222222222,
             "#7201a8"
            ],
            [
             0.3333333333333333,
             "#9c179e"
            ],
            [
             0.4444444444444444,
             "#bd3786"
            ],
            [
             0.5555555555555556,
             "#d8576b"
            ],
            [
             0.6666666666666666,
             "#ed7953"
            ],
            [
             0.7777777777777778,
             "#fb9f3a"
            ],
            [
             0.8888888888888888,
             "#fdca26"
            ],
            [
             1,
             "#f0f921"
            ]
           ]
          },
          "colorway": [
           "#636efa",
           "#EF553B",
           "#00cc96",
           "#ab63fa",
           "#FFA15A",
           "#19d3f3",
           "#FF6692",
           "#B6E880",
           "#FF97FF",
           "#FECB52"
          ],
          "font": {
           "color": "#2a3f5f"
          },
          "geo": {
           "bgcolor": "white",
           "lakecolor": "white",
           "landcolor": "#E5ECF6",
           "showlakes": true,
           "showland": true,
           "subunitcolor": "white"
          },
          "hoverlabel": {
           "align": "left"
          },
          "hovermode": "closest",
          "mapbox": {
           "style": "light"
          },
          "paper_bgcolor": "white",
          "plot_bgcolor": "#E5ECF6",
          "polar": {
           "angularaxis": {
            "gridcolor": "white",
            "linecolor": "white",
            "ticks": ""
           },
           "bgcolor": "#E5ECF6",
           "radialaxis": {
            "gridcolor": "white",
            "linecolor": "white",
            "ticks": ""
           }
          },
          "scene": {
           "xaxis": {
            "backgroundcolor": "#E5ECF6",
            "gridcolor": "white",
            "gridwidth": 2,
            "linecolor": "white",
            "showbackground": true,
            "ticks": "",
            "zerolinecolor": "white"
           },
           "yaxis": {
            "backgroundcolor": "#E5ECF6",
            "gridcolor": "white",
            "gridwidth": 2,
            "linecolor": "white",
            "showbackground": true,
            "ticks": "",
            "zerolinecolor": "white"
           },
           "zaxis": {
            "backgroundcolor": "#E5ECF6",
            "gridcolor": "white",
            "gridwidth": 2,
            "linecolor": "white",
            "showbackground": true,
            "ticks": "",
            "zerolinecolor": "white"
           }
          },
          "shapedefaults": {
           "line": {
            "color": "#2a3f5f"
           }
          },
          "ternary": {
           "aaxis": {
            "gridcolor": "white",
            "linecolor": "white",
            "ticks": ""
           },
           "baxis": {
            "gridcolor": "white",
            "linecolor": "white",
            "ticks": ""
           },
           "bgcolor": "#E5ECF6",
           "caxis": {
            "gridcolor": "white",
            "linecolor": "white",
            "ticks": ""
           }
          },
          "title": {
           "x": 0.05
          },
          "xaxis": {
           "automargin": true,
           "gridcolor": "white",
           "linecolor": "white",
           "ticks": "",
           "zerolinecolor": "white",
           "zerolinewidth": 2
          },
          "yaxis": {
           "automargin": true,
           "gridcolor": "white",
           "linecolor": "white",
           "ticks": "",
           "zerolinecolor": "white",
           "zerolinewidth": 2
          }
         }
        }
       }
      },
      "text/html": [
       "<div>\n",
       "        \n",
       "        \n",
       "            <div id=\"ae203bd8-766a-4cdf-abee-b23a4f00a74a\" class=\"plotly-graph-div\" style=\"height:525px; width:100%;\"></div>\n",
       "            <script type=\"text/javascript\">\n",
       "                require([\"plotly\"], function(Plotly) {\n",
       "                    window.PLOTLYENV=window.PLOTLYENV || {};\n",
       "                    \n",
       "                if (document.getElementById(\"ae203bd8-766a-4cdf-abee-b23a4f00a74a\")) {\n",
       "                    Plotly.newPlot(\n",
       "                        'ae203bd8-766a-4cdf-abee-b23a4f00a74a',\n",
       "                        [{\"marker\": {\"color\": [0.0, 0.0, 0.0, 0.0, 0.0, 0.0, 0.0, 0.0, 0.0, 0.0, 0.0, 0.0, 0.9154006391793779, 1.3235307062881696, 1.5653861219065637, 1.70511157638914, 1.7509598870132046, 1.7051115763891398, 1.5653861219065637, 1.3235307062881696, 0.9154006391793778, 0.0, 0.0, 1.3235307062881696, 2.243667796590758, 2.8030308443918055, 3.109235990127003, 3.2077427074232565, 3.109235990127003, 2.8030308443918055, 2.2436677965907577, 1.3235307062881698, 0.0, 0.0, 1.5653861219065637, 2.8030308443918055, 3.669204790923058, 4.166803208105161, 4.327428655451995, 4.166803208105161, 3.669204790923058, 2.8030308443918055, 1.5653861219065632, 0.0, 0.0, 1.70511157638914, 3.109235990127003, 4.166803208105161, 4.820413372085942, 5.039193575877254, 4.820413372085942, 4.166803208105161, 3.109235990127003, 1.7051115763891398, 0.0, 0.0, 1.7509598870132046, 3.2077427074232565, 4.327428655451995, 5.039193575877254, 5.282424035512499, 5.039193575877254, 4.327428655451995, 3.2077427074232565, 1.7509598870132048, 0.0, 0.0, 1.7051115763891398, 3.109235990127003, 4.166803208105161, 4.820413372085942, 5.039193575877254, 4.820413372085942, 4.166803208105161, 3.109235990127003, 1.70511157638914, 0.0, 0.0, 1.5653861219065635, 2.803030844391805, 3.669204790923058, 4.166803208105161, 4.327428655451995, 4.166803208105161, 3.669204790923058, 2.803030844391805, 1.5653861219065635, 0.0, 0.0, 1.3235307062881698, 2.243667796590758, 2.803030844391805, 3.109235990127003, 3.2077427074232565, 3.109235990127003, 2.803030844391805, 2.243667796590758, 1.3235307062881694, 0.0, 0.0, 0.9154006391793778, 1.3235307062881694, 1.5653861219065632, 1.7051115763891398, 1.7509598870132048, 1.70511157638914, 1.5653861219065635, 1.3235307062881694, 0.9154006391793776, 0.0, 0.0, 0.0, 0.0, 0.0, 0.0, 0.0, 0.0, 0.0, 0.0, 0.0, 0.0], \"colorscale\": [[0.0, \"#440154\"], [0.1111111111111111, \"#482878\"], [0.2222222222222222, \"#3e4989\"], [0.3333333333333333, \"#31688e\"], [0.4444444444444444, \"#26828e\"], [0.5555555555555556, \"#1f9e89\"], [0.6666666666666666, \"#35b779\"], [0.7777777777777778, \"#6ece58\"], [0.8888888888888888, \"#b5de2b\"], [1.0, \"#fde725\"]], \"size\": 4}, \"type\": \"scatter3d\", \"x\": [0.0, 0.0, 0.0, 0.0, 0.0, 0.0, 0.0, 0.0, 0.0, 0.0, 0.0, 1.0, 0.8063074345615718, 0.7324246313982958, 0.7282463541574316, 0.7331432650967492, 0.7354910562323982, 0.7331432650967492, 0.7282463541574316, 0.7324246313982957, 0.8063074345615717, 1.0, 2.0, 1.8398162418819188, 1.6898759819426181, 1.6216543327135504, 1.60318973772365, 1.600215522252702, 1.60318973772365, 1.6216543327135502, 1.6898759819426186, 1.8398162418819186, 2.0, 3.0, 2.8899722917798867, 2.767584953145384, 2.6770313943294095, 2.633454745808191, 2.621847111323692, 2.633454745808191, 2.677031394329409, 2.7675849531453838, 2.889972291779887, 3.0, 4.0, 3.943879055053949, 3.8791326112288966, 3.822583269907391, 3.7881488955975993, 3.777259647320074, 3.7881488955975993, 3.822583269907391, 3.879132611228897, 3.943879055053949, 4.0, 5.0, 5.0, 5.0, 5.0, 5.0, 5.0, 5.0, 4.999999999999999, 5.0, 5.0, 5.0, 6.0, 6.056120944946051, 6.120867388771103, 6.1774167300926095, 6.211851104402401, 6.222740352679926, 6.211851104402401, 6.1774167300926095, 6.120867388771103, 6.056120944946051, 6.0, 7.0, 7.110027708220113, 7.232415046854616, 7.3229686056705905, 7.366545254191808, 7.378152888676309, 7.366545254191808, 7.3229686056705905, 7.232415046854616, 7.110027708220113, 7.0, 8.0, 8.160183758118082, 8.310124018057381, 8.37834566728645, 8.39681026227635, 8.399784477747298, 8.39681026227635, 8.37834566728645, 8.310124018057381, 8.160183758118082, 8.0, 9.0, 9.193692565438429, 9.267575368601705, 9.27175364584257, 9.266856734903252, 9.264508943767602, 9.266856734903252, 9.27175364584257, 9.267575368601705, 9.193692565438429, 9.0, 10.0, 10.0, 10.0, 10.0, 10.0, 10.0, 10.0, 10.0, 10.0, 10.0, 10.0], \"y\": [0.0, 1.0, 2.0, 3.0, 4.0, 5.0, 6.0, 7.0, 8.0, 9.0, 10.0, 0.0, 0.806307434561572, 1.8398162418819184, 2.8899722917798876, 3.9438790550539484, 5.000000000000001, 6.056120944946051, 7.110027708220113, 8.16018375811808, 9.193692565438429, 10.0, 0.0, 0.7324246313982956, 1.6898759819426186, 2.7675849531453838, 3.8791326112288975, 5.0, 6.120867388771103, 7.232415046854616, 8.310124018057381, 9.267575368601705, 10.0, 0.0, 0.7282463541574314, 1.6216543327135504, 2.677031394329409, 3.822583269907391, 5.0, 6.177416730092609, 7.322968605670591, 8.37834566728645, 9.27175364584257, 10.0, 0.0, 0.7331432650967492, 1.60318973772365, 2.633454745808191, 3.7881488955975993, 5.0, 6.211851104402402, 7.366545254191808, 8.39681026227635, 9.266856734903252, 10.0, 0.0, 0.7354910562323983, 1.600215522252702, 2.621847111323692, 3.777259647320074, 5.0, 6.222740352679926, 7.378152888676309, 8.399784477747298, 9.264508943767602, 10.0, 0.0, 0.7331432650967492, 1.60318973772365, 2.633454745808191, 3.7881488955975993, 5.0, 6.211851104402402, 7.366545254191808, 8.39681026227635, 9.266856734903252, 10.0, 0.0, 0.7282463541574313, 1.6216543327135502, 2.677031394329409, 3.822583269907391, 5.0, 6.177416730092609, 7.322968605670591, 8.37834566728645, 9.27175364584257, 10.0, 0.0, 0.7324246313982956, 1.6898759819426183, 2.7675849531453838, 3.8791326112288975, 4.999999999999999, 6.120867388771104, 7.232415046854616, 8.310124018057381, 9.267575368601705, 10.0, 0.0, 0.8063074345615715, 1.8398162418819184, 2.889972291779887, 3.9438790550539484, 5.0, 6.056120944946051, 7.110027708220113, 8.160183758118082, 9.193692565438429, 10.0, 0.0, 1.0, 2.0, 3.0, 4.0, 5.0, 6.0, 7.0, 8.0, 9.0, 10.0], \"z\": [0.0, 0.0, 0.0, 0.0, 0.0, 0.0, 0.0, 0.0, 0.0, 0.0, 0.0, 0.0, 0.7520903523485307, 1.0313940935494852, 1.178761782911768, 1.2605749724845494, 1.2869213444398497, 1.2605749724845494, 1.1787617829117678, 1.0313940935494854, 0.7520903523485304, 0.0, 0.0, 1.0313940935494854, 1.7228804912419136, 2.108959749245439, 2.3055204507318767, 2.3664705952870904, 2.3055204507318767, 2.108959749245439, 1.7228804912419131, 1.0313940935494854, 0.0, 0.0, 1.178761782911768, 2.1089597492454395, 2.7336908138490865, 3.0730706114684985, 3.178779542455676, 3.0730706114684985, 2.733690813849086, 2.108959749245439, 1.1787617829117676, 0.0, 0.0, 1.2605749724845496, 2.3055204507318767, 3.0730706114684985, 3.52476528869426, 3.6706223283963597, 3.5247652886942595, 3.073070611468499, 2.3055204507318763, 1.26057497248455, 0.0, 0.0, 1.2869213444398497, 2.36647059528709, 3.1787795424556764, 3.6706223283963597, 3.832215944645207, 3.6706223283963593, 3.178779542455676, 2.366470595287091, 1.2869213444398493, 0.0, 0.0, 1.2605749724845494, 2.3055204507318767, 3.0730706114684985, 3.5247652886942595, 3.6706223283963593, 3.5247652886942595, 3.073070611468499, 2.3055204507318763, 1.26057497248455, 0.0, 0.0, 1.1787617829117678, 2.108959749245439, 2.7336908138490865, 3.073070611468499, 3.178779542455676, 3.073070611468499, 2.733690813849086, 2.108959749245439, 1.1787617829117676, 0.0, 0.0, 1.0313940935494852, 1.7228804912419133, 2.108959749245439, 2.3055204507318763, 2.366470595287091, 2.3055204507318763, 2.1089597492454395, 1.722880491241913, 1.0313940935494856, 0.0, 0.0, 0.752090352348531, 1.0313940935494854, 1.1787617829117678, 1.2605749724845499, 1.2869213444398493, 1.26057497248455, 1.1787617829117676, 1.0313940935494856, 0.7520903523485314, 0.0, 0.0, 0.0, 0.0, 0.0, 0.0, 0.0, 0.0, 0.0, 0.0, 0.0, 0.0]}],\n",
       "                        {\"template\": {\"data\": {\"bar\": [{\"error_x\": {\"color\": \"#2a3f5f\"}, \"error_y\": {\"color\": \"#2a3f5f\"}, \"marker\": {\"line\": {\"color\": \"#E5ECF6\", \"width\": 0.5}}, \"type\": \"bar\"}], \"barpolar\": [{\"marker\": {\"line\": {\"color\": \"#E5ECF6\", \"width\": 0.5}}, \"type\": \"barpolar\"}], \"carpet\": [{\"aaxis\": {\"endlinecolor\": \"#2a3f5f\", \"gridcolor\": \"white\", \"linecolor\": \"white\", \"minorgridcolor\": \"white\", \"startlinecolor\": \"#2a3f5f\"}, \"baxis\": {\"endlinecolor\": \"#2a3f5f\", \"gridcolor\": \"white\", \"linecolor\": \"white\", \"minorgridcolor\": \"white\", \"startlinecolor\": \"#2a3f5f\"}, \"type\": \"carpet\"}], \"choropleth\": [{\"colorbar\": {\"outlinewidth\": 0, \"ticks\": \"\"}, \"type\": \"choropleth\"}], \"contour\": [{\"colorbar\": {\"outlinewidth\": 0, \"ticks\": \"\"}, \"colorscale\": [[0.0, \"#0d0887\"], [0.1111111111111111, \"#46039f\"], [0.2222222222222222, \"#7201a8\"], [0.3333333333333333, \"#9c179e\"], [0.4444444444444444, \"#bd3786\"], [0.5555555555555556, \"#d8576b\"], [0.6666666666666666, \"#ed7953\"], [0.7777777777777778, \"#fb9f3a\"], [0.8888888888888888, \"#fdca26\"], [1.0, \"#f0f921\"]], \"type\": \"contour\"}], \"contourcarpet\": [{\"colorbar\": {\"outlinewidth\": 0, \"ticks\": \"\"}, \"type\": \"contourcarpet\"}], \"heatmap\": [{\"colorbar\": {\"outlinewidth\": 0, \"ticks\": \"\"}, \"colorscale\": [[0.0, \"#0d0887\"], [0.1111111111111111, \"#46039f\"], [0.2222222222222222, \"#7201a8\"], [0.3333333333333333, \"#9c179e\"], [0.4444444444444444, \"#bd3786\"], [0.5555555555555556, \"#d8576b\"], [0.6666666666666666, \"#ed7953\"], [0.7777777777777778, \"#fb9f3a\"], [0.8888888888888888, \"#fdca26\"], [1.0, \"#f0f921\"]], \"type\": \"heatmap\"}], \"heatmapgl\": [{\"colorbar\": {\"outlinewidth\": 0, \"ticks\": \"\"}, \"colorscale\": [[0.0, \"#0d0887\"], [0.1111111111111111, \"#46039f\"], [0.2222222222222222, \"#7201a8\"], [0.3333333333333333, \"#9c179e\"], [0.4444444444444444, \"#bd3786\"], [0.5555555555555556, \"#d8576b\"], [0.6666666666666666, \"#ed7953\"], [0.7777777777777778, \"#fb9f3a\"], [0.8888888888888888, \"#fdca26\"], [1.0, \"#f0f921\"]], \"type\": \"heatmapgl\"}], \"histogram\": [{\"marker\": {\"colorbar\": {\"outlinewidth\": 0, \"ticks\": \"\"}}, \"type\": \"histogram\"}], \"histogram2d\": [{\"colorbar\": {\"outlinewidth\": 0, \"ticks\": \"\"}, \"colorscale\": [[0.0, \"#0d0887\"], [0.1111111111111111, \"#46039f\"], [0.2222222222222222, \"#7201a8\"], [0.3333333333333333, \"#9c179e\"], [0.4444444444444444, \"#bd3786\"], [0.5555555555555556, \"#d8576b\"], [0.6666666666666666, \"#ed7953\"], [0.7777777777777778, \"#fb9f3a\"], [0.8888888888888888, \"#fdca26\"], [1.0, \"#f0f921\"]], \"type\": \"histogram2d\"}], \"histogram2dcontour\": [{\"colorbar\": {\"outlinewidth\": 0, \"ticks\": \"\"}, \"colorscale\": [[0.0, \"#0d0887\"], [0.1111111111111111, \"#46039f\"], [0.2222222222222222, \"#7201a8\"], [0.3333333333333333, \"#9c179e\"], [0.4444444444444444, \"#bd3786\"], [0.5555555555555556, \"#d8576b\"], [0.6666666666666666, \"#ed7953\"], [0.7777777777777778, \"#fb9f3a\"], [0.8888888888888888, \"#fdca26\"], [1.0, \"#f0f921\"]], \"type\": \"histogram2dcontour\"}], \"mesh3d\": [{\"colorbar\": {\"outlinewidth\": 0, \"ticks\": \"\"}, \"type\": \"mesh3d\"}], \"parcoords\": [{\"line\": {\"colorbar\": {\"outlinewidth\": 0, \"ticks\": \"\"}}, \"type\": \"parcoords\"}], \"scatter\": [{\"marker\": {\"colorbar\": {\"outlinewidth\": 0, \"ticks\": \"\"}}, \"type\": \"scatter\"}], \"scatter3d\": [{\"line\": {\"colorbar\": {\"outlinewidth\": 0, \"ticks\": \"\"}}, \"marker\": {\"colorbar\": {\"outlinewidth\": 0, \"ticks\": \"\"}}, \"type\": \"scatter3d\"}], \"scattercarpet\": [{\"marker\": {\"colorbar\": {\"outlinewidth\": 0, \"ticks\": \"\"}}, \"type\": \"scattercarpet\"}], \"scattergeo\": [{\"marker\": {\"colorbar\": {\"outlinewidth\": 0, \"ticks\": \"\"}}, \"type\": \"scattergeo\"}], \"scattergl\": [{\"marker\": {\"colorbar\": {\"outlinewidth\": 0, \"ticks\": \"\"}}, \"type\": \"scattergl\"}], \"scattermapbox\": [{\"marker\": {\"colorbar\": {\"outlinewidth\": 0, \"ticks\": \"\"}}, \"type\": \"scattermapbox\"}], \"scatterpolar\": [{\"marker\": {\"colorbar\": {\"outlinewidth\": 0, \"ticks\": \"\"}}, \"type\": \"scatterpolar\"}], \"scatterpolargl\": [{\"marker\": {\"colorbar\": {\"outlinewidth\": 0, \"ticks\": \"\"}}, \"type\": \"scatterpolargl\"}], \"scatterternary\": [{\"marker\": {\"colorbar\": {\"outlinewidth\": 0, \"ticks\": \"\"}}, \"type\": \"scatterternary\"}], \"surface\": [{\"colorbar\": {\"outlinewidth\": 0, \"ticks\": \"\"}, \"colorscale\": [[0.0, \"#0d0887\"], [0.1111111111111111, \"#46039f\"], [0.2222222222222222, \"#7201a8\"], [0.3333333333333333, \"#9c179e\"], [0.4444444444444444, \"#bd3786\"], [0.5555555555555556, \"#d8576b\"], [0.6666666666666666, \"#ed7953\"], [0.7777777777777778, \"#fb9f3a\"], [0.8888888888888888, \"#fdca26\"], [1.0, \"#f0f921\"]], \"type\": \"surface\"}], \"table\": [{\"cells\": {\"fill\": {\"color\": \"#EBF0F8\"}, \"line\": {\"color\": \"white\"}}, \"header\": {\"fill\": {\"color\": \"#C8D4E3\"}, \"line\": {\"color\": \"white\"}}, \"type\": \"table\"}]}, \"layout\": {\"annotationdefaults\": {\"arrowcolor\": \"#2a3f5f\", \"arrowhead\": 0, \"arrowwidth\": 1}, \"colorscale\": {\"diverging\": [[0, \"#8e0152\"], [0.1, \"#c51b7d\"], [0.2, \"#de77ae\"], [0.3, \"#f1b6da\"], [0.4, \"#fde0ef\"], [0.5, \"#f7f7f7\"], [0.6, \"#e6f5d0\"], [0.7, \"#b8e186\"], [0.8, \"#7fbc41\"], [0.9, \"#4d9221\"], [1, \"#276419\"]], \"sequential\": [[0.0, \"#0d0887\"], [0.1111111111111111, \"#46039f\"], [0.2222222222222222, \"#7201a8\"], [0.3333333333333333, \"#9c179e\"], [0.4444444444444444, \"#bd3786\"], [0.5555555555555556, \"#d8576b\"], [0.6666666666666666, \"#ed7953\"], [0.7777777777777778, \"#fb9f3a\"], [0.8888888888888888, \"#fdca26\"], [1.0, \"#f0f921\"]], \"sequentialminus\": [[0.0, \"#0d0887\"], [0.1111111111111111, \"#46039f\"], [0.2222222222222222, \"#7201a8\"], [0.3333333333333333, \"#9c179e\"], [0.4444444444444444, \"#bd3786\"], [0.5555555555555556, \"#d8576b\"], [0.6666666666666666, \"#ed7953\"], [0.7777777777777778, \"#fb9f3a\"], [0.8888888888888888, \"#fdca26\"], [1.0, \"#f0f921\"]]}, \"colorway\": [\"#636efa\", \"#EF553B\", \"#00cc96\", \"#ab63fa\", \"#FFA15A\", \"#19d3f3\", \"#FF6692\", \"#B6E880\", \"#FF97FF\", \"#FECB52\"], \"font\": {\"color\": \"#2a3f5f\"}, \"geo\": {\"bgcolor\": \"white\", \"lakecolor\": \"white\", \"landcolor\": \"#E5ECF6\", \"showlakes\": true, \"showland\": true, \"subunitcolor\": \"white\"}, \"hoverlabel\": {\"align\": \"left\"}, \"hovermode\": \"closest\", \"mapbox\": {\"style\": \"light\"}, \"paper_bgcolor\": \"white\", \"plot_bgcolor\": \"#E5ECF6\", \"polar\": {\"angularaxis\": {\"gridcolor\": \"white\", \"linecolor\": \"white\", \"ticks\": \"\"}, \"bgcolor\": \"#E5ECF6\", \"radialaxis\": {\"gridcolor\": \"white\", \"linecolor\": \"white\", \"ticks\": \"\"}}, \"scene\": {\"xaxis\": {\"backgroundcolor\": \"#E5ECF6\", \"gridcolor\": \"white\", \"gridwidth\": 2, \"linecolor\": \"white\", \"showbackground\": true, \"ticks\": \"\", \"zerolinecolor\": \"white\"}, \"yaxis\": {\"backgroundcolor\": \"#E5ECF6\", \"gridcolor\": \"white\", \"gridwidth\": 2, \"linecolor\": \"white\", \"showbackground\": true, \"ticks\": \"\", \"zerolinecolor\": \"white\"}, \"zaxis\": {\"backgroundcolor\": \"#E5ECF6\", \"gridcolor\": \"white\", \"gridwidth\": 2, \"linecolor\": \"white\", \"showbackground\": true, \"ticks\": \"\", \"zerolinecolor\": \"white\"}}, \"shapedefaults\": {\"line\": {\"color\": \"#2a3f5f\"}}, \"ternary\": {\"aaxis\": {\"gridcolor\": \"white\", \"linecolor\": \"white\", \"ticks\": \"\"}, \"baxis\": {\"gridcolor\": \"white\", \"linecolor\": \"white\", \"ticks\": \"\"}, \"bgcolor\": \"#E5ECF6\", \"caxis\": {\"gridcolor\": \"white\", \"linecolor\": \"white\", \"ticks\": \"\"}}, \"title\": {\"x\": 0.05}, \"xaxis\": {\"automargin\": true, \"gridcolor\": \"white\", \"linecolor\": \"white\", \"ticks\": \"\", \"zerolinecolor\": \"white\", \"zerolinewidth\": 2}, \"yaxis\": {\"automargin\": true, \"gridcolor\": \"white\", \"linecolor\": \"white\", \"ticks\": \"\", \"zerolinecolor\": \"white\", \"zerolinewidth\": 2}}}},\n",
       "                        {\"responsive\": true}\n",
       "                    ).then(function(){\n",
       "                            \n",
       "var gd = document.getElementById('ae203bd8-766a-4cdf-abee-b23a4f00a74a');\n",
       "var x = new MutationObserver(function (mutations, observer) {{\n",
       "        var display = window.getComputedStyle(gd).display;\n",
       "        if (!display || display === 'none') {{\n",
       "            console.log([gd, 'removed!']);\n",
       "            Plotly.purge(gd);\n",
       "            observer.disconnect();\n",
       "        }}\n",
       "}});\n",
       "\n",
       "// Listen for the removal of the full notebook cells\n",
       "var notebookContainer = gd.closest('#notebook-container');\n",
       "if (notebookContainer) {{\n",
       "    x.observe(notebookContainer, {childList: true});\n",
       "}}\n",
       "\n",
       "// Listen for the clearing of the current output cell\n",
       "var outputEl = gd.closest('.output');\n",
       "if (outputEl) {{\n",
       "    x.observe(outputEl, {childList: true});\n",
       "}}\n",
       "\n",
       "                        })\n",
       "                };\n",
       "                });\n",
       "            </script>\n",
       "        </div>"
      ]
     },
     "metadata": {},
     "output_type": "display_data"
    }
   ],
   "source": [
    "points = go.Scatter3d(\n",
    "    mode = 'markers',\n",
    "    showlegend = False,\n",
    "    x=xFS, y=yFS, z=zFS,\n",
    "    marker=dict(\n",
    "        size=4,\n",
    "        color='red',\n",
    "       ))\n",
    "\n",
    "coordinates = xyzFS\n",
    "lines = []\n",
    "for u, v in edges:\n",
    "    lines.append(go.Scatter3d(\n",
    "#         mode='lines',\n",
    "        x = [coordinates[u][0], coordinates[v][0]],\n",
    "        y = [coordinates[u][1], coordinates[v][1]],\n",
    "        z = [coordinates[u][2], coordinates[v][2]],\n",
    "        line=dict(color='black'),\n",
    "        marker=dict(color='red', size=4),\n",
    "        showlegend = False\n",
    "                ))\n",
    "        \n",
    "fig = go.Figure(data=lines)\n",
    "\n",
    "fig.show()\n"
   ]
  }
 ],
 "metadata": {
  "kernelspec": {
   "display_name": "Python 3",
   "language": "python",
   "name": "python3"
  },
  "language_info": {
   "codemirror_mode": {
    "name": "ipython",
    "version": 3
   },
   "file_extension": ".py",
   "mimetype": "text/x-python",
   "name": "python",
   "nbconvert_exporter": "python",
   "pygments_lexer": "ipython3",
   "version": "3.7.3"
  }
 },
 "nbformat": 4,
 "nbformat_minor": 2
}
